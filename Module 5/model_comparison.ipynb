{
 "cells": [
  {
   "cell_type": "code",
   "execution_count": 1,
   "metadata": {},
   "outputs": [],
   "source": [
    "import numpy as np\n",
    "import pandas as pd\n",
    "import matplotlib.pyplot as plt\n",
    "from sklearn.pipeline import Pipeline\n",
    "from sklearn.preprocessing import PolynomialFeatures\n",
    "from sklearn.linear_model import LinearRegression\n",
    "from sklearn.model_selection import cross_val_score\n",
    "from sklearn.metrics import mean_squared_error, r2_score\n",
    "from sklearn.model_selection import train_test_split\n",
    "import numpy as np\n",
    "import scipy.interpolate as si\n",
    "from sklearn.base import TransformerMixin\n",
    "from sklearn.pipeline import make_pipeline\n",
    "from sklearn.linear_model import LinearRegression, RANSACRegressor,\\\n",
    "                                 TheilSenRegressor, HuberRegressor\n",
    "from sklearn.metrics import mean_squared_error"
   ]
  },
  {
   "cell_type": "code",
   "execution_count": 2,
   "metadata": {},
   "outputs": [],
   "source": [
    "def get_bspline_basis(knots, degree=3, periodic=False):\n",
    "    \"\"\"Get spline coefficients for each basis spline.\"\"\"\n",
    "    nknots = len(knots)\n",
    "    y_dummy = np.zeros(nknots)\n",
    "\n",
    "    knots, coeffs, degree = si.splrep(knots, y_dummy, k=degree,\n",
    "                                      per=periodic)\n",
    "    ncoeffs = len(coeffs)\n",
    "    bsplines = []\n",
    "    for ispline in range(nknots):\n",
    "        coeffs = [1.0 if ispl == ispline else 0.0 for ispl in range(ncoeffs)]\n",
    "        bsplines.append((knots, coeffs, degree))\n",
    "    return bsplines"
   ]
  },
  {
   "cell_type": "code",
   "execution_count": 3,
   "metadata": {},
   "outputs": [],
   "source": [
    "class BSplineFeatures(TransformerMixin):\n",
    "    def __init__(self, knots, degree=3, periodic=False):\n",
    "        self.bsplines = get_bspline_basis(knots, degree, periodic=periodic)\n",
    "        self.nsplines = len(self.bsplines)\n",
    "\n",
    "    def fit(self, X, y=None):\n",
    "        return self\n",
    "\n",
    "    def transform(self, X):\n",
    "        nsamples, nfeatures = X.shape\n",
    "        features = np.zeros((nsamples, nfeatures * self.nsplines))\n",
    "        for ispline, spline in enumerate(self.bsplines):\n",
    "            istart = ispline * nfeatures\n",
    "            iend = (ispline + 1) * nfeatures\n",
    "            features[:, istart:iend] = si.splev(X, spline)\n",
    "        return features"
   ]
  },
  {
   "cell_type": "code",
   "execution_count": 4,
   "metadata": {},
   "outputs": [],
   "source": [
    "nyc_pumpkins = pd.read_csv(\"./new-york_9-24-2016_9-30-2017.csv\")\n",
    "cat_map = {\n",
    "    'sml': 0,\n",
    "    'med': 1,\n",
    "    'med-lge': 2,\n",
    "    'lge': 3,\n",
    "    'xlge': 4,\n",
    "    'exjbo': 5\n",
    "}\n",
    "nyc_pumpkins = nyc_pumpkins.assign(\n",
    "    size=nyc_pumpkins['Item Size'].map(cat_map),\n",
    "    price=nyc_pumpkins['High Price'] + nyc_pumpkins['Low Price'] / 2,\n",
    "    size_class=(nyc_pumpkins['Item Size'].map(cat_map) >= 2).astype(int)\n",
    ")\n",
    "nyc_pumpkins = nyc_pumpkins.drop([c for c in nyc_pumpkins.columns if c not in ['size', 'price', 'size_class']], \n",
    "                                 axis='columns')\n",
    "nyc_pumpkins = nyc_pumpkins.dropna()"
   ]
  },
  {
   "cell_type": "code",
   "execution_count": 5,
   "metadata": {},
   "outputs": [
    {
     "data": {
      "text/html": [
       "<div>\n",
       "<style scoped>\n",
       "    .dataframe tbody tr th:only-of-type {\n",
       "        vertical-align: middle;\n",
       "    }\n",
       "\n",
       "    .dataframe tbody tr th {\n",
       "        vertical-align: top;\n",
       "    }\n",
       "\n",
       "    .dataframe thead th {\n",
       "        text-align: right;\n",
       "    }\n",
       "</style>\n",
       "<table border=\"1\" class=\"dataframe\">\n",
       "  <thead>\n",
       "    <tr style=\"text-align: right;\">\n",
       "      <th></th>\n",
       "      <th>size</th>\n",
       "      <th>price</th>\n",
       "      <th>size_class</th>\n",
       "    </tr>\n",
       "  </thead>\n",
       "  <tbody>\n",
       "    <tr>\n",
       "      <th>0</th>\n",
       "      <td>4.0</td>\n",
       "      <td>245.0</td>\n",
       "      <td>1</td>\n",
       "    </tr>\n",
       "    <tr>\n",
       "      <th>1</th>\n",
       "      <td>3.0</td>\n",
       "      <td>245.0</td>\n",
       "      <td>1</td>\n",
       "    </tr>\n",
       "    <tr>\n",
       "      <th>2</th>\n",
       "      <td>4.0</td>\n",
       "      <td>215.0</td>\n",
       "      <td>1</td>\n",
       "    </tr>\n",
       "    <tr>\n",
       "      <th>3</th>\n",
       "      <td>3.0</td>\n",
       "      <td>215.0</td>\n",
       "      <td>1</td>\n",
       "    </tr>\n",
       "    <tr>\n",
       "      <th>4</th>\n",
       "      <td>2.0</td>\n",
       "      <td>200.0</td>\n",
       "      <td>1</td>\n",
       "    </tr>\n",
       "    <tr>\n",
       "      <th>5</th>\n",
       "      <td>4.0</td>\n",
       "      <td>245.0</td>\n",
       "      <td>1</td>\n",
       "    </tr>\n",
       "    <tr>\n",
       "      <th>6</th>\n",
       "      <td>3.0</td>\n",
       "      <td>230.0</td>\n",
       "      <td>1</td>\n",
       "    </tr>\n",
       "    <tr>\n",
       "      <th>7</th>\n",
       "      <td>1.0</td>\n",
       "      <td>280.0</td>\n",
       "      <td>0</td>\n",
       "    </tr>\n",
       "    <tr>\n",
       "      <th>8</th>\n",
       "      <td>4.0</td>\n",
       "      <td>245.0</td>\n",
       "      <td>1</td>\n",
       "    </tr>\n",
       "    <tr>\n",
       "      <th>9</th>\n",
       "      <td>3.0</td>\n",
       "      <td>245.0</td>\n",
       "      <td>1</td>\n",
       "    </tr>\n",
       "  </tbody>\n",
       "</table>\n",
       "</div>"
      ],
      "text/plain": [
       "   size  price  size_class\n",
       "0   4.0  245.0           1\n",
       "1   3.0  245.0           1\n",
       "2   4.0  215.0           1\n",
       "3   3.0  215.0           1\n",
       "4   2.0  200.0           1\n",
       "5   4.0  245.0           1\n",
       "6   3.0  230.0           1\n",
       "7   1.0  280.0           0\n",
       "8   4.0  245.0           1\n",
       "9   3.0  245.0           1"
      ]
     },
     "execution_count": 5,
     "metadata": {},
     "output_type": "execute_result"
    }
   ],
   "source": [
    "nyc_pumpkins.head(10)"
   ]
  },
  {
   "cell_type": "code",
   "execution_count": 6,
   "metadata": {},
   "outputs": [],
   "source": [
    "def aic(y, y_pred, k):\n",
    "    resid = y - y_pred.ravel()\n",
    "    sse = sum(resid ** 2)\n",
    "    AIC = 2*k - 2*np.log(sse)\n",
    "\n",
    "    return -AIC"
   ]
  },
  {
   "cell_type": "code",
   "execution_count": 7,
   "metadata": {},
   "outputs": [],
   "source": [
    "X_train, X_test, y_train, y_test = train_test_split(nyc_pumpkins['price'], nyc_pumpkins['size'], test_size=0.20, random_state=42, shuffle=True) #split 20% into test set"
   ]
  },
  {
   "cell_type": "code",
   "execution_count": 8,
   "metadata": {},
   "outputs": [],
   "source": [
    "def get_r2_and_aic_for_both_models(X_train, y_train, X_test, y_test):\n",
    "    polynomial_features = PolynomialFeatures(degree=2,\n",
    "                                             include_bias=True)\n",
    "    linear_regression = LinearRegression()\n",
    "    model_polynomial = Pipeline([(\"polynomial_features\", polynomial_features),\n",
    "                         (\"linear_regression\", linear_regression)])\n",
    "    model_polynomial.fit(X_train[:, np.newaxis], y_train)\n",
    "\n",
    "    predicted_sizes_poly = np.round(model_polynomial.predict(X_test[:, np.newaxis]))\n",
    "    \n",
    "    X_train = np.array(X_train).reshape(-1,1)\n",
    "    X_test = np.array(X_test).reshape(-1,1)\n",
    "\n",
    "    y_train = np.array(y_train).reshape(-1,1)\n",
    "    y_test = np.array(y_test).reshape(-1,1)\n",
    "    \n",
    "    knots = np.linspace(0, 500, 10)\n",
    "    bspline_features = BSplineFeatures(knots, degree=2, periodic=False)\n",
    "    model_splines = make_pipeline(bspline_features, LinearRegression(fit_intercept=False))\n",
    "    model_splines.fit(X_train, y_train)    \n",
    "    # Evaluate the models using crossvalidation\n",
    "    predicted_sizes_splines = np.round(model_splines.predict(X_test))\n",
    "    \n",
    "    aic_poly = aic(y_test.ravel(), predicted_sizes_poly, k=2)\n",
    "    aic_splines = aic(y_test.ravel(), predicted_sizes_splines, k=2)\n",
    "    r2_poly = r2_score(y_test.ravel(), predicted_sizes_poly)\n",
    "    r2_splines = r2_score(y_test.ravel(), predicted_sizes_splines)\n",
    "    return aic_poly, aic_splines, r2_poly, r2_splines"
   ]
  },
  {
   "cell_type": "code",
   "execution_count": 9,
   "metadata": {},
   "outputs": [],
   "source": [
    "aic_poly, aic_splines, r2_poly, r2_splines = get_r2_and_aic_for_both_models(X_train, y_train, X_test, y_test)"
   ]
  },
  {
   "cell_type": "code",
   "execution_count": 10,
   "metadata": {},
   "outputs": [],
   "source": [
    "X_train[20]= -10\n",
    "y_train[20] = 30"
   ]
  },
  {
   "cell_type": "code",
   "execution_count": 11,
   "metadata": {},
   "outputs": [],
   "source": [
    "aic_poly_outlier, aic_splines_outlier, r2_poly_outlier, r2_splines_outlier = get_r2_and_aic_for_both_models(X_train, y_train, X_test, y_test)"
   ]
  },
  {
   "cell_type": "code",
   "execution_count": 12,
   "metadata": {},
   "outputs": [
    {
     "name": "stdout",
     "output_type": "stream",
     "text": [
      "AIC for Poly model was 1.2781146592305168\n",
      "AIC for Splines model was 2.7345916599729483\n",
      "R2 for Poly model was 0.7554076539101497\n",
      "R2 for Splines model was 0.4933444259567389\n"
     ]
    }
   ],
   "source": [
    "print('AIC for Poly model was {}'.format(aic_poly))\n",
    "print('AIC for Splines model was {}'.format(aic_splines))\n",
    "print('R2 for Poly model was {}'.format(r2_poly))\n",
    "print('R2 for Splines model was {}'.format(r2_splines))"
   ]
  },
  {
   "cell_type": "code",
   "execution_count": 13,
   "metadata": {},
   "outputs": [
    {
     "name": "stdout",
     "output_type": "stream",
     "text": [
      "AIC for Poly model with outlier was 3.2218358252884487\n",
      "AIC for Splines model with outlier was 2.802394763324311\n",
      "R2 for Poly model with outlier was 0.35357737104825304\n",
      "R2 for Splines model with outlier was 0.47587354409317817\n"
     ]
    }
   ],
   "source": [
    "print('AIC for Poly model with outlier was {}'.format(aic_poly_outlier))\n",
    "print('AIC for Splines model with outlier was {}'.format(aic_splines_outlier))\n",
    "print('R2 for Poly model with outlier was {}'.format(r2_poly_outlier))\n",
    "print('R2 for Splines model with outlier was {}'.format(r2_splines_outlier))\n"
   ]
  },
  {
   "cell_type": "code",
   "execution_count": null,
   "metadata": {},
   "outputs": [],
   "source": []
  },
  {
   "cell_type": "code",
   "execution_count": null,
   "metadata": {},
   "outputs": [],
   "source": []
  }
 ],
 "metadata": {
  "kernelspec": {
   "display_name": "Python 3",
   "language": "python",
   "name": "python3"
  },
  "language_info": {
   "codemirror_mode": {
    "name": "ipython",
    "version": 3
   },
   "file_extension": ".py",
   "mimetype": "text/x-python",
   "name": "python",
   "nbconvert_exporter": "python",
   "pygments_lexer": "ipython3",
   "version": "3.6.5"
  }
 },
 "nbformat": 4,
 "nbformat_minor": 2
}
