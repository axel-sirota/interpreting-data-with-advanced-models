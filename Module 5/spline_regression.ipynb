{
 "cells": [
  {
   "cell_type": "markdown",
   "metadata": {},
   "source": [
    "# Spline Regression"
   ]
  },
  {
   "cell_type": "markdown",
   "metadata": {},
   "source": [
    "Let's check spline regression! For that I will include a custom model to our pipeline sklearn object. You can reuse tthis object as you please, it will run spline regression!"
   ]
  },
  {
   "cell_type": "code",
   "execution_count": 1,
   "metadata": {},
   "outputs": [],
   "source": [
    "import numpy as np\n",
    "import pandas as pd\n",
    "import matplotlib.pyplot as plt\n",
    "from sklearn.pipeline import Pipeline\n",
    "from sklearn.preprocessing import PolynomialFeatures\n",
    "from sklearn.linear_model import LinearRegression\n",
    "from sklearn.model_selection import cross_val_score\n",
    "from sklearn.metrics import mean_squared_error, r2_score\n",
    "from sklearn.model_selection import train_test_split\n",
    "import numpy as np\n",
    "import scipy.interpolate as si\n",
    "from sklearn.base import TransformerMixin\n",
    "from sklearn.pipeline import make_pipeline\n",
    "from sklearn.linear_model import LinearRegression, RANSACRegressor,\\\n",
    "                                 TheilSenRegressor, HuberRegressor\n",
    "from sklearn.metrics import mean_squared_error"
   ]
  },
  {
   "cell_type": "code",
   "execution_count": 2,
   "metadata": {},
   "outputs": [],
   "source": [
    "def get_bspline_basis(knots, degree=3, periodic=False):\n",
    "    \"\"\"Get spline coefficients for each basis spline.\"\"\"\n",
    "    nknots = len(knots)\n",
    "    y_dummy = np.zeros(nknots)\n",
    "\n",
    "    knots, coeffs, degree = si.splrep(knots, y_dummy, k=degree,\n",
    "                                      per=periodic)\n",
    "    ncoeffs = len(coeffs)\n",
    "    bsplines = []\n",
    "    for ispline in range(nknots):\n",
    "        coeffs = [1.0 if ispl == ispline else 0.0 for ispl in range(ncoeffs)]\n",
    "        bsplines.append((knots, coeffs, degree))\n",
    "    return bsplines"
   ]
  },
  {
   "cell_type": "markdown",
   "metadata": {},
   "source": [
    "The only thing needed to implement a model is to implement the fit and transform methods!"
   ]
  },
  {
   "cell_type": "code",
   "execution_count": 3,
   "metadata": {},
   "outputs": [],
   "source": [
    "class BSplineFeatures(TransformerMixin):\n",
    "    def __init__(self, knots, degree=3, periodic=False):\n",
    "        self.bsplines = get_bspline_basis(knots, degree, periodic=periodic)\n",
    "        self.nsplines = len(self.bsplines)\n",
    "\n",
    "    def fit(self, X, y=None):\n",
    "        return self\n",
    "\n",
    "    def transform(self, X):\n",
    "        nsamples, nfeatures = X.shape\n",
    "        features = np.zeros((nsamples, nfeatures * self.nsplines))\n",
    "        for ispline, spline in enumerate(self.bsplines):\n",
    "            istart = ispline * nfeatures\n",
    "            iend = (ispline + 1) * nfeatures\n",
    "            features[:, istart:iend] = si.splev(X, spline)\n",
    "        return features"
   ]
  },
  {
   "cell_type": "code",
   "execution_count": 4,
   "metadata": {},
   "outputs": [],
   "source": [
    "nyc_pumpkins = pd.read_csv(\"./new-york_9-24-2016_9-30-2017.csv\")\n",
    "cat_map = {\n",
    "    'sml': 0,\n",
    "    'med': 1,\n",
    "    'med-lge': 2,\n",
    "    'lge': 3,\n",
    "    'xlge': 4,\n",
    "    'exjbo': 5\n",
    "}\n",
    "nyc_pumpkins = nyc_pumpkins.assign(\n",
    "    size=nyc_pumpkins['Item Size'].map(cat_map),\n",
    "    price=nyc_pumpkins['High Price'] + nyc_pumpkins['Low Price'] / 2,\n",
    "    size_class=(nyc_pumpkins['Item Size'].map(cat_map) >= 2).astype(int)\n",
    ")\n",
    "nyc_pumpkins = nyc_pumpkins.drop([c for c in nyc_pumpkins.columns if c not in ['size', 'price', 'size_class']], \n",
    "                                 axis='columns')\n",
    "nyc_pumpkins = nyc_pumpkins.dropna()"
   ]
  },
  {
   "cell_type": "code",
   "execution_count": 5,
   "metadata": {},
   "outputs": [
    {
     "data": {
      "text/html": [
       "<div>\n",
       "<style scoped>\n",
       "    .dataframe tbody tr th:only-of-type {\n",
       "        vertical-align: middle;\n",
       "    }\n",
       "\n",
       "    .dataframe tbody tr th {\n",
       "        vertical-align: top;\n",
       "    }\n",
       "\n",
       "    .dataframe thead th {\n",
       "        text-align: right;\n",
       "    }\n",
       "</style>\n",
       "<table border=\"1\" class=\"dataframe\">\n",
       "  <thead>\n",
       "    <tr style=\"text-align: right;\">\n",
       "      <th></th>\n",
       "      <th>size</th>\n",
       "      <th>price</th>\n",
       "      <th>size_class</th>\n",
       "    </tr>\n",
       "  </thead>\n",
       "  <tbody>\n",
       "    <tr>\n",
       "      <th>0</th>\n",
       "      <td>4.0</td>\n",
       "      <td>245.0</td>\n",
       "      <td>1</td>\n",
       "    </tr>\n",
       "    <tr>\n",
       "      <th>1</th>\n",
       "      <td>3.0</td>\n",
       "      <td>245.0</td>\n",
       "      <td>1</td>\n",
       "    </tr>\n",
       "    <tr>\n",
       "      <th>2</th>\n",
       "      <td>4.0</td>\n",
       "      <td>215.0</td>\n",
       "      <td>1</td>\n",
       "    </tr>\n",
       "    <tr>\n",
       "      <th>3</th>\n",
       "      <td>3.0</td>\n",
       "      <td>215.0</td>\n",
       "      <td>1</td>\n",
       "    </tr>\n",
       "    <tr>\n",
       "      <th>4</th>\n",
       "      <td>2.0</td>\n",
       "      <td>200.0</td>\n",
       "      <td>1</td>\n",
       "    </tr>\n",
       "    <tr>\n",
       "      <th>5</th>\n",
       "      <td>4.0</td>\n",
       "      <td>245.0</td>\n",
       "      <td>1</td>\n",
       "    </tr>\n",
       "    <tr>\n",
       "      <th>6</th>\n",
       "      <td>3.0</td>\n",
       "      <td>230.0</td>\n",
       "      <td>1</td>\n",
       "    </tr>\n",
       "    <tr>\n",
       "      <th>7</th>\n",
       "      <td>1.0</td>\n",
       "      <td>280.0</td>\n",
       "      <td>0</td>\n",
       "    </tr>\n",
       "    <tr>\n",
       "      <th>8</th>\n",
       "      <td>4.0</td>\n",
       "      <td>245.0</td>\n",
       "      <td>1</td>\n",
       "    </tr>\n",
       "    <tr>\n",
       "      <th>9</th>\n",
       "      <td>3.0</td>\n",
       "      <td>245.0</td>\n",
       "      <td>1</td>\n",
       "    </tr>\n",
       "  </tbody>\n",
       "</table>\n",
       "</div>"
      ],
      "text/plain": [
       "   size  price  size_class\n",
       "0   4.0  245.0           1\n",
       "1   3.0  245.0           1\n",
       "2   4.0  215.0           1\n",
       "3   3.0  215.0           1\n",
       "4   2.0  200.0           1\n",
       "5   4.0  245.0           1\n",
       "6   3.0  230.0           1\n",
       "7   1.0  280.0           0\n",
       "8   4.0  245.0           1\n",
       "9   3.0  245.0           1"
      ]
     },
     "execution_count": 5,
     "metadata": {},
     "output_type": "execute_result"
    }
   ],
   "source": [
    "nyc_pumpkins.head(10)"
   ]
  },
  {
   "cell_type": "code",
   "execution_count": 6,
   "metadata": {},
   "outputs": [
    {
     "data": {
      "text/plain": [
       "(104, 3)"
      ]
     },
     "execution_count": 6,
     "metadata": {},
     "output_type": "execute_result"
    }
   ],
   "source": [
    "nyc_pumpkins.shape"
   ]
  },
  {
   "cell_type": "code",
   "execution_count": 7,
   "metadata": {},
   "outputs": [
    {
     "data": {
      "image/png": "[encoded data removed]",
      "text/plain": [
       "<Figure size 1440x720 with 3 Axes>"
      ]
     },
     "metadata": {
      "needs_background": "light"
     },
     "output_type": "display_data"
    }
   ],
   "source": [
    "X_train, X_test, y_train, y_test = train_test_split(nyc_pumpkins['price'], nyc_pumpkins['size'], test_size=0.20, random_state=42, shuffle=True) #split 20% into test set\n",
    "\n",
    "X_train[20]= -10\n",
    "y_train[20] = 30\n",
    "\n",
    "degrees = [1, 2, 4]\n",
    "fig = plt.figure(figsize=(20,10))\n",
    "for i in range(len(degrees)):\n",
    "    ax = plt.subplot(1, len(degrees)+1, i + 2)\n",
    "    plt.setp(ax, xticks=(), yticks=())\n",
    "\n",
    "    polynomial_features = PolynomialFeatures(degree=degrees[i],\n",
    "                                             include_bias=True)\n",
    "    linear_regression = LinearRegression()\n",
    "    pipeline = Pipeline([(\"polynomial_features\", polynomial_features),\n",
    "                         (\"linear_regression\", linear_regression)])\n",
    "    pipeline.fit(X_train[:, np.newaxis], y_train)\n",
    "\n",
    "    # Evaluate the models using crossvalidation\n",
    "    predicted_sizes = np.round(pipeline.predict(X_test[:, np.newaxis]))\n",
    "    import matplotlib.pyplot as plt\n",
    "    plt.style.use('fivethirtyeight')\n",
    "\n",
    "    pd.Series(\n",
    "        np.abs((np.array(y_test) - predicted_sizes).flatten()) <= 1\n",
    "    ).value_counts().plot.bar(title='Accuracy Within 1 Class \\n for degree {}'.format(degrees[i]))"
   ]
  },
  {
   "cell_type": "markdown",
   "metadata": {},
   "source": [
    "As we know, with one outlier polynomial regression does pretty bad!"
   ]
  },
  {
   "cell_type": "code",
   "execution_count": 8,
   "metadata": {},
   "outputs": [],
   "source": [
    "X_train, X_test, y_train, y_test = train_test_split(nyc_pumpkins['price'], nyc_pumpkins['size'], test_size=0.20, random_state=42, shuffle=True) #split 20% into test set\n",
    "\n",
    "X_train[20]= -10\n",
    "y_train[20] = 30\n",
    "\n",
    "X_train = np.array(X_train).reshape(-1,1)\n",
    "X_test = np.array(X_test).reshape(-1,1)\n",
    "\n",
    "y_train = np.array(y_train).reshape(-1,1)\n",
    "y_test = np.array(y_test).reshape(-1,1)\n",
    "\n"
   ]
  },
  {
   "cell_type": "code",
   "execution_count": 9,
   "metadata": {},
   "outputs": [
    {
     "data": {
      "image/png": "[encoded data removed]",
      "text/plain": [
       "<Figure size 1440x720 with 3 Axes>"
      ]
     },
     "metadata": {},
     "output_type": "display_data"
    }
   ],
   "source": [
    "\n",
    "knots = np.linspace(0, 500, 20)\n",
    "\n",
    "\n",
    "degrees = [1, 2, 4]\n",
    "fig = plt.figure(figsize=(20,10))\n",
    "fig.suptitle('Robust B-Spline Regression with SKLearn')\n",
    "for i in range(len(degrees)):\n",
    "    bspline_features = BSplineFeatures(knots, degree=degrees[i], periodic=False)\n",
    "    model = make_pipeline(bspline_features, LinearRegression(fit_intercept=False))\n",
    "    model.fit(X_train, y_train)    \n",
    "    ax = plt.subplot(1, len(degrees)+1, i + 2)\n",
    "    plt.setp(ax, xticks=(), yticks=())\n",
    "\n",
    "    # Evaluate the models using crossvalidation\n",
    "    predicted_sizes = np.round(model.predict(X_test))\n",
    "    import matplotlib.pyplot as plt\n",
    "    plt.style.use('fivethirtyeight')\n",
    "\n",
    "    pd.Series(\n",
    "        np.abs((np.array(y_test) - predicted_sizes).flatten()) <= 1\n",
    "    ).value_counts().plot.bar(title='Accuracy Within 1 Class \\n for degree {}'.format(degrees[i]))"
   ]
  },
  {
   "cell_type": "markdown",
   "metadata": {},
   "source": [
    "But spline regression rocks! It is a robust regression! The issue in degree 4 we see is overfitting, another normal issue with polynomials in general! We tend to use spline regression up to degree 3."
   ]
  },
  {
   "cell_type": "code",
   "execution_count": null,
   "metadata": {},
   "outputs": [],
   "source": []
  }
 ],
 "metadata": {
  "kernelspec": {
   "display_name": "Python 3",
   "language": "python",
   "name": "python3"
  },
  "language_info": {
   "codemirror_mode": {
    "name": "ipython",
    "version": 3
   },
   "file_extension": ".py",
   "mimetype": "text/x-python",
   "name": "python",
   "nbconvert_exporter": "python",
   "pygments_lexer": "ipython3",
   "version": "3.6.5"
  }
 },
 "nbformat": 4,
 "nbformat_minor": 2
}
