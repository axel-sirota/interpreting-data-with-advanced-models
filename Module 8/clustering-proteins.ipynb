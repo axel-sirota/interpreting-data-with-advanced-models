{
 "cells": [
  {
   "cell_type": "markdown",
   "metadata": {
    "_uuid": "102bc443e67e3eff6554ca8081680e3d2d8b43f6",
    "collapsed": true
   },
   "source": [
    "## Clustering proteins!"
   ]
  },
  {
   "cell_type": "markdown",
   "metadata": {},
   "source": [
    "We inspire in the excellent Kaggle kernel https://www.kaggle.com/petebleackley/clustering-proteins/data to see how it uses a lot of the techniques of this modules and previous modules to get a great grasp of breast cancer proteomes! I dare not touch it since I think is a great collection of excellent material!"
   ]
  },
  {
   "cell_type": "code",
   "execution_count": 32,
   "metadata": {},
   "outputs": [],
   "source": [
    "\n",
    "import numpy\n",
    "import numpy.linalg\n",
    "import pandas\n",
    "import scipy.cluster.hierarchy\n",
    "import sklearn\n",
    "import sklearn.cluster\n",
    "import sklearn.linear_model\n",
    "import re\n",
    "import matplotlib.pyplot"
   ]
  },
  {
   "cell_type": "code",
   "execution_count": 14,
   "metadata": {
    "_uuid": "08db4d149d913b1570a4966638016d3f772bef23"
   },
   "outputs": [],
   "source": [
    "def ReduceDimensions(data,keep_variance=0.8,tolerance=1.0E-12,max_iter=1024):\n",
    "    \"\"\"Reduces dimensions of data\"\"\"\n",
    "    residuals=data-data.mean(axis=1,keepdims=True)\n",
    "    noise=(1.0-keep_variance)*residuals.var()\n",
    "    convergence=1.0-tolerance\n",
    "    result=None\n",
    "    n=0\n",
    "    while n<max_iter and residuals.var()>noise:\n",
    "        component=residuals.var(axis=1,keepdims=True)\n",
    "        if result is not None:\n",
    "            component-=(result*(component.T.dot(result))).sum(axis=1,keepdims=True)\n",
    "        component/=numpy.linalg.norm(component)\n",
    "        corr=0.0\n",
    "        n=0\n",
    "        while n<max_iter and corr<convergence:\n",
    "            projection=residuals.dot(component.T.dot(residuals).T)\n",
    "            projection/=numpy.linalg.norm(projection)\n",
    "            corr=projection.T.dot(component)\n",
    "            component=projection\n",
    "            n+=1\n",
    "        if n<max_iter:\n",
    "            if result is None:\n",
    "                result=component\n",
    "            else:\n",
    "                result=numpy.hstack([result,component])\n",
    "            residuals-=numpy.outer(component,component.T.dot(residuals))\n",
    "    return result"
   ]
  },
  {
   "cell_type": "code",
   "execution_count": 15,
   "metadata": {
    "_uuid": "69ef0a89b95abfa030cc31fb9625caff9aae10d4"
   },
   "outputs": [],
   "source": [
    "split_name=re.compile('[.-]')\n",
    "   \n",
    "def rename_patients(name):\n",
    "    components=split_name.split(name)\n",
    "    return '-'.join(('TCGA',components[0],components[1]))\n",
    "    \n",
    "class BreastCancerAnalysis(object):\n",
    "    \"\"\"Analyses the breast cancer proteome date from Kaggle\"\"\"\n",
    "    def __init__(self):\n",
    "        \"\"\"Loads the data tables\"\"\"\n",
    "        self.protein_activity=pandas.read_csv(\"./77_cancer_proteomes_CPTAC_itraq.csv\")\n",
    "        self.protein_activity.set_index(['RefSeq_accession_number','gene_symbol','gene_name'],inplace=True)\n",
    "        self.protein_activity.fillna(self.protein_activity.median(),inplace=True)\n",
    "        self.protein_activity.rename(columns=rename_patients,inplace=True)\n",
    "        self.clinical_data=pandas.read_csv(\"./clinical_data_breast_cancer.csv\").set_index('Complete TCGA ID')\n",
    "        self.principal_components=None\n",
    "        self.protein_clusters=None\n",
    "        self.patient_protein_activity=None\n",
    "        self.clinical_prediction_models=None\n",
    "        \n",
    "    def fit_principal_components(self):\n",
    "        \"\"\"Reduces the dimensionality of the data\"\"\"\n",
    "        self.principal_components=pandas.DataFrame(ReduceDimensions(self.protein_activity.values),\n",
    "                                                   index=self.protein_activity.index)\n",
    "        return self.principal_components\n",
    "        \n",
    "    def dendrogram(self):\n",
    "        \"\"\"Performs heirarchical clustering and plots a dendrogram to chose number\n",
    "           of clusters to fit\"\"\"\n",
    "        result=matplotlib.pyplot.gca()\n",
    "        scipy.cluster.hierarchy.dendrogram(scipy.cluster.hierarchy.ward(self.principal_components),ax=result)\n",
    "        return result\n",
    "        \n",
    "    def cluster_proteins(self,n=2):\n",
    "        \"\"\"Finds clusters of proteins whose activity is related\"\"\"\n",
    "        clusters=sklearn.cluster.AgglomerativeClustering(n_clusters=n,\n",
    "                                                         memory='/tmp')\n",
    "        self.protein_clusters=pandas.DataFrame(clusters.fit_predict(self.principal_components),\n",
    "                                               index=self.principal_components.index,\n",
    "                                               columns=['cluster'])\n",
    "        return self.protein_clusters\n",
    "        \n",
    "    \n",
    "    def patient_cluster_activity(self):\n",
    "        \"\"\"Calculates the activity of each protein cluster for each patient\"\"\"\n",
    "        mean_subtracted_protein_activity=self.protein_activity.sub(self.protein_activity.values.mean(axis=1),\n",
    "                                                                   axis='index')\n",
    "        patient_components=mean_subtracted_protein_activity.T.dot(self.principal_components)\n",
    "        kernel=self.principal_components.merge(self.protein_clusters,\n",
    "                                               left_index=True,\n",
    "                                               right_index=True).groupby('cluster').mean().T\n",
    "        self.patient_protein_activity=patient_components.dot(kernel)\n",
    "        return self.patient_protein_activity\n",
    "\n",
    "    def train_clinical_models(self):\n",
    "        \"\"\"Fits a model to predict each clinical feature from the protein activity\"\"\"\n",
    "        self.clinical_prediction_models={'Gender':sklearn.linear_model.LogisticRegression(solver='lbfgs',multi_class='multinomial'),\n",
    "                                         'Age at Initial Pathologic Diagnosis':sklearn.linear_model.LassoLars(copy_X=True),\n",
    "                                         'ER Status':sklearn.linear_model.LogisticRegression(solver='lbfgs',multi_class='multinomial'),\n",
    "                                         'PR Status':sklearn.linear_model.LogisticRegression(solver='lbfgs'),\n",
    "                                         'HER2 Final Status':sklearn.linear_model.LogisticRegression(solver='lbfgs'),\n",
    "                                         'Tumor':sklearn.linear_model.LogisticRegression(solver='lbfgs',multi_class='multinomial'),\n",
    "                                         'Node':sklearn.linear_model.LogisticRegression(solver='lbfgs',multi_class='multinomial'),\n",
    "                                         'Metastasis-Coded':sklearn.linear_model.LogisticRegression(solver='lbfgs',multi_class='multinomial'),\n",
    "                                         'AJCC Stage':sklearn.linear_model.LogisticRegression(solver='lbfgs',multi_class='multinomial'),\n",
    "                                         'Vital Status':sklearn.linear_model.LogisticRegression(solver='lbfgs',multi_class='multinomial'),\n",
    "                                         'OS Time':sklearn.linear_model.LassoLars(copy_X=True),\n",
    "                                         'PAM50 mRNA':sklearn.linear_model.LogisticRegression(solver='lbfgs',multi_class='multinomial'),\n",
    "                                         'SigClust Unsupervised mRNA':sklearn.linear_model.LassoLars(copy_X=True),\n",
    "                                         'miRNA Clusters':sklearn.linear_model.LassoLars(copy_X=True),\n",
    "                                         'methylation Clusters':sklearn.linear_model.LassoLars(copy_X=True),\n",
    "                                         'RPPA Clusters':sklearn.linear_model.LogisticRegression(solver='lbfgs',multi_class='multinomial'),\n",
    "                                         'Integrated Clusters (with PAM50)':sklearn.linear_model.LassoLars(copy_X=True),\n",
    "                                         'Integrated Clusters (no exp)':sklearn.linear_model.LassoLars(copy_X=True),\n",
    "                                         'Integrated Clusters (unsup exp)':sklearn.linear_model.LassoLars(copy_X=True)}\n",
    "        combined_data=self.patient_protein_activity.merge(self.clinical_data,\n",
    "                                                          how='inner',\n",
    "                                                          left_index=True,\n",
    "                                                          right_index=True)\n",
    "        for (column,model) in self.clinical_prediction_models.items():\n",
    "            model.fit(combined_data[self.patient_protein_activity.columns].values,\n",
    "                      combined_data[column].values)\n",
    "        return pandas.Series({column:model.score(combined_data[self.patient_protein_activity.columns].values,\n",
    "                                                 combined_data[column].values)\n",
    "                              for (column,model) in self.clinical_prediction_models.items()}).plot.barh()\n",
    "    \n",
    "    def visualize(self,model):\n",
    "        \"\"\"Plots a chart of the chosen model\"\"\"\n",
    "        data=None\n",
    "        coefficients=self.clinical_prediction_models[model]\n",
    "        if coefficients.__class__.__name__=='LogisticRegression':\n",
    "            data=pandas.DataFrame(coefficients.coef_.T,\n",
    "                                  columns=coefficients.classes_[:coefficients.coef_.shape[0]],\n",
    "                                  index=self.patient_protein_activity.columns)\n",
    "        else:\n",
    "            data=pandas.Series(coefficients.coef_,\n",
    "                               index=self.patient_protein_activity.columns)\n",
    "        return data.plot.bar(figsize=(6,4))"
   ]
  },
  {
   "cell_type": "markdown",
   "metadata": {
    "_uuid": "5ff49beb32dbd03ef2bc5423075330f151b363e1"
   },
   "source": [
    "## Clustering protein activity\n",
    "Previous work on this dataset has involved clustering patients according to their protein activity. For this analysis, I decided to cluster proteins according to their activity in different patients, and then use the activity of the different clusters to predict clinical features. Biologically speaking, it is assumed that proteins whose activity clusters together comprise interacting systems.\n",
    "First, the dimensionality of dataset is reduced, and then a hierarchical cluster is fitted to the principal components, which is visualised as a dendrogram to select the appropriate number of components."
   ]
  },
  {
   "cell_type": "code",
   "execution_count": 16,
   "metadata": {
    "_uuid": "cb616cd8019013aa4351b806eb352d62d823f1ac"
   },
   "outputs": [
    {
     "data": {
      "text/plain": [
       "<matplotlib.axes._subplots.AxesSubplot at 0x12d2823c8>"
      ]
     },
     "execution_count": 16,
     "metadata": {},
     "output_type": "execute_result"
    },
    {
     "data": {
      "image/png": "[encoded data removed]",
      "text/plain": [
       "<Figure size 432x288 with 1 Axes>"
      ]
     },
     "metadata": {
      "needs_background": "light"
     },
     "output_type": "display_data"
    }
   ],
   "source": [
    "models=BreastCancerAnalysis()\n",
    "models.fit_principal_components()\n",
    "models.dendrogram()"
   ]
  },
  {
   "cell_type": "markdown",
   "metadata": {
    "_uuid": "01a0e8af5738e03a33a076ece91b830e18a103db"
   },
   "source": [
    "From this it appears that 8 components are appropriate. Therefore, hierarchical clustering is rerun and the proteins assigned to 8 clusters"
   ]
  },
  {
   "cell_type": "code",
   "execution_count": 17,
   "metadata": {
    "_uuid": "e46d715292d192dc5833cdd810abefe971c2c4b4"
   },
   "outputs": [
    {
     "data": {
      "text/html": [
       "<div>\n",
       "<style scoped>\n",
       "    .dataframe tbody tr th:only-of-type {\n",
       "        vertical-align: middle;\n",
       "    }\n",
       "\n",
       "    .dataframe tbody tr th {\n",
       "        vertical-align: top;\n",
       "    }\n",
       "\n",
       "    .dataframe thead th {\n",
       "        text-align: right;\n",
       "    }\n",
       "</style>\n",
       "<table border=\"1\" class=\"dataframe\">\n",
       "  <thead>\n",
       "    <tr style=\"text-align: right;\">\n",
       "      <th></th>\n",
       "      <th></th>\n",
       "      <th></th>\n",
       "      <th>cluster</th>\n",
       "    </tr>\n",
       "    <tr>\n",
       "      <th>RefSeq_accession_number</th>\n",
       "      <th>gene_symbol</th>\n",
       "      <th>gene_name</th>\n",
       "      <th></th>\n",
       "    </tr>\n",
       "  </thead>\n",
       "  <tbody>\n",
       "    <tr>\n",
       "      <th>NP_958782</th>\n",
       "      <th>PLEC</th>\n",
       "      <th>plectin isoform 1</th>\n",
       "      <td>6</td>\n",
       "    </tr>\n",
       "    <tr>\n",
       "      <th>NP_958785</th>\n",
       "      <th>NaN</th>\n",
       "      <th>plectin isoform 1g</th>\n",
       "      <td>6</td>\n",
       "    </tr>\n",
       "    <tr>\n",
       "      <th>NP_958786</th>\n",
       "      <th>PLEC</th>\n",
       "      <th>plectin isoform 1a</th>\n",
       "      <td>6</td>\n",
       "    </tr>\n",
       "    <tr>\n",
       "      <th>NP_000436</th>\n",
       "      <th>NaN</th>\n",
       "      <th>plectin isoform 1c</th>\n",
       "      <td>6</td>\n",
       "    </tr>\n",
       "    <tr>\n",
       "      <th>NP_958781</th>\n",
       "      <th>NaN</th>\n",
       "      <th>plectin isoform 1e</th>\n",
       "      <td>6</td>\n",
       "    </tr>\n",
       "    <tr>\n",
       "      <th>NP_958780</th>\n",
       "      <th>PLEC</th>\n",
       "      <th>plectin isoform 1f</th>\n",
       "      <td>6</td>\n",
       "    </tr>\n",
       "    <tr>\n",
       "      <th>NP_958783</th>\n",
       "      <th>PLEC</th>\n",
       "      <th>plectin isoform 1d</th>\n",
       "      <td>6</td>\n",
       "    </tr>\n",
       "    <tr>\n",
       "      <th>NP_958784</th>\n",
       "      <th>NaN</th>\n",
       "      <th>plectin isoform 1b</th>\n",
       "      <td>6</td>\n",
       "    </tr>\n",
       "    <tr>\n",
       "      <th>NP_112598</th>\n",
       "      <th>NaN</th>\n",
       "      <th>epiplakin</th>\n",
       "      <td>0</td>\n",
       "    </tr>\n",
       "    <tr>\n",
       "      <th>NP_001611</th>\n",
       "      <th>AHNAK</th>\n",
       "      <th>neuroblast differentiation-associated protein AHNAK isoform 1</th>\n",
       "      <td>1</td>\n",
       "    </tr>\n",
       "    <tr>\n",
       "      <th>NP_076965</th>\n",
       "      <th>AHNAK</th>\n",
       "      <th>neuroblast differentiation-associated protein AHNAK isoform 2</th>\n",
       "      <td>1</td>\n",
       "    </tr>\n",
       "    <tr>\n",
       "      <th>NP_001367</th>\n",
       "      <th>DYNC1H1</th>\n",
       "      <th>cytoplasmic dynein 1 heavy chain 1</th>\n",
       "      <td>4</td>\n",
       "    </tr>\n",
       "    <tr>\n",
       "      <th>NP_036222</th>\n",
       "      <th>MACF1</th>\n",
       "      <th>microtubule-actin cross-linking factor 1</th>\n",
       "      <td>1</td>\n",
       "    </tr>\n",
       "    <tr>\n",
       "      <th>NP_001138241</th>\n",
       "      <th>NaN</th>\n",
       "      <th>bullous pemphigoid antigen 1 isoform 2</th>\n",
       "      <td>1</td>\n",
       "    </tr>\n",
       "    <tr>\n",
       "      <th>NP_001714</th>\n",
       "      <th>DST</th>\n",
       "      <th>bullous pemphigoid antigen 1 isoform 1e precursor</th>\n",
       "      <td>0</td>\n",
       "    </tr>\n",
       "    <tr>\n",
       "      <th>NP_002464</th>\n",
       "      <th>MYH9</th>\n",
       "      <th>myosin-9</th>\n",
       "      <td>1</td>\n",
       "    </tr>\n",
       "    <tr>\n",
       "      <th>NP_001073936</th>\n",
       "      <th>MYO5B</th>\n",
       "      <th>unconventional myosin-Vb</th>\n",
       "      <td>4</td>\n",
       "    </tr>\n",
       "    <tr>\n",
       "      <th>NP_061198</th>\n",
       "      <th>MYO5C</th>\n",
       "      <th>unconventional myosin-Vc</th>\n",
       "      <td>1</td>\n",
       "    </tr>\n",
       "    <tr>\n",
       "      <th>NP_001074248</th>\n",
       "      <th>MYO1C</th>\n",
       "      <th>unconventional myosin-Ic isoform a</th>\n",
       "      <td>3</td>\n",
       "    </tr>\n",
       "    <tr>\n",
       "      <th>NP_001074419</th>\n",
       "      <th>MYO1C</th>\n",
       "      <th>unconventional myosin-Ic isoform b</th>\n",
       "      <td>3</td>\n",
       "    </tr>\n",
       "    <tr>\n",
       "      <th>NP_056009</th>\n",
       "      <th>MYO1D</th>\n",
       "      <th>unconventional myosin-Id</th>\n",
       "      <td>6</td>\n",
       "    </tr>\n",
       "    <tr>\n",
       "      <th>NP_036355</th>\n",
       "      <th>MYO1B</th>\n",
       "      <th>unconventional myosin-Ib isoform 2</th>\n",
       "      <td>4</td>\n",
       "    </tr>\n",
       "    <tr>\n",
       "      <th>NP_001155291</th>\n",
       "      <th>MYO1B</th>\n",
       "      <th>unconventional myosin-Ib isoform 1</th>\n",
       "      <td>4</td>\n",
       "    </tr>\n",
       "    <tr>\n",
       "      <th>NP_002462</th>\n",
       "      <th>MYH6</th>\n",
       "      <th>myosin-6</th>\n",
       "      <td>1</td>\n",
       "    </tr>\n",
       "    <tr>\n",
       "      <th>NP_000248</th>\n",
       "      <th>MYH7</th>\n",
       "      <th>myosin-7</th>\n",
       "      <td>1</td>\n",
       "    </tr>\n",
       "    <tr>\n",
       "      <th>NP_036467</th>\n",
       "      <th>MYO1F</th>\n",
       "      <th>unconventional myosin-If</th>\n",
       "      <td>5</td>\n",
       "    </tr>\n",
       "    <tr>\n",
       "      <th>NP_004989</th>\n",
       "      <th>MYO1E</th>\n",
       "      <th>unconventional myosin-Ie</th>\n",
       "      <td>1</td>\n",
       "    </tr>\n",
       "    <tr>\n",
       "      <th>NP_001243024</th>\n",
       "      <th>NaN</th>\n",
       "      <th>myosin-10 isoform 3</th>\n",
       "      <td>6</td>\n",
       "    </tr>\n",
       "    <tr>\n",
       "      <th>NP_149043</th>\n",
       "      <th>MYO1G</th>\n",
       "      <th>unconventional myosin-Ig</th>\n",
       "      <td>5</td>\n",
       "    </tr>\n",
       "    <tr>\n",
       "      <th>NP_067047</th>\n",
       "      <th>ZNF462</th>\n",
       "      <th>zinc finger protein 462</th>\n",
       "      <td>0</td>\n",
       "    </tr>\n",
       "    <tr>\n",
       "      <th>...</th>\n",
       "      <th>...</th>\n",
       "      <th>...</th>\n",
       "      <td>...</td>\n",
       "    </tr>\n",
       "    <tr>\n",
       "      <th>NP_004953</th>\n",
       "      <th>GDF10</th>\n",
       "      <th>bone morphogenetic protein 3B precursor</th>\n",
       "      <td>1</td>\n",
       "    </tr>\n",
       "    <tr>\n",
       "      <th>NP_001034806</th>\n",
       "      <th>C4ORF29</th>\n",
       "      <th>uncharacterized protein C4orf29 precursor</th>\n",
       "      <td>0</td>\n",
       "    </tr>\n",
       "    <tr>\n",
       "      <th>NP_065119</th>\n",
       "      <th>NaN</th>\n",
       "      <th>phospholipid-metabolizing enzyme A-C1</th>\n",
       "      <td>4</td>\n",
       "    </tr>\n",
       "    <tr>\n",
       "      <th>NP_110392</th>\n",
       "      <th>B3GNT4</th>\n",
       "      <th>UDP-GlcNAc:betaGal beta-1,3-N-acetylglucosaminyltransferase 4</th>\n",
       "      <td>1</td>\n",
       "    </tr>\n",
       "    <tr>\n",
       "      <th>NP_620138</th>\n",
       "      <th>NaN</th>\n",
       "      <th>zinc finger protein 653</th>\n",
       "      <td>1</td>\n",
       "    </tr>\n",
       "    <tr>\n",
       "      <th>NP_062558</th>\n",
       "      <th>IRGC</th>\n",
       "      <th>interferon-inducible GTPase 5</th>\n",
       "      <td>1</td>\n",
       "    </tr>\n",
       "    <tr>\n",
       "      <th>NP_001005163</th>\n",
       "      <th>OR52D1</th>\n",
       "      <th>olfactory receptor 52D1</th>\n",
       "      <td>1</td>\n",
       "    </tr>\n",
       "    <tr>\n",
       "      <th>NP_665813</th>\n",
       "      <th>CACNG6</th>\n",
       "      <th>voltage-dependent calcium channel gamma-6 subunit isoform a</th>\n",
       "      <td>1</td>\n",
       "    </tr>\n",
       "    <tr>\n",
       "      <th>NP_005279</th>\n",
       "      <th>GPR12</th>\n",
       "      <th>G-protein coupled receptor 12</th>\n",
       "      <td>0</td>\n",
       "    </tr>\n",
       "    <tr>\n",
       "      <th>NP_998761</th>\n",
       "      <th>FOXN4</th>\n",
       "      <th>forkhead box protein N4</th>\n",
       "      <td>0</td>\n",
       "    </tr>\n",
       "    <tr>\n",
       "      <th>YP_003024032</th>\n",
       "      <th>NaN</th>\n",
       "      <th>cytochrome c oxidase subunit III</th>\n",
       "      <td>4</td>\n",
       "    </tr>\n",
       "    <tr>\n",
       "      <th>NP_001165887</th>\n",
       "      <th>NaN</th>\n",
       "      <th>inward rectifier potassium channel 13 isoform 2</th>\n",
       "      <td>1</td>\n",
       "    </tr>\n",
       "    <tr>\n",
       "      <th>NP_001010893</th>\n",
       "      <th>SLC10A5</th>\n",
       "      <th>sodium/bile acid cotransporter 5 precursor</th>\n",
       "      <td>1</td>\n",
       "    </tr>\n",
       "    <tr>\n",
       "      <th>NP_872303</th>\n",
       "      <th>KRT40</th>\n",
       "      <th>keratin, type I cytoskeletal 40</th>\n",
       "      <td>1</td>\n",
       "    </tr>\n",
       "    <tr>\n",
       "      <th>NP_000871</th>\n",
       "      <th>IL7</th>\n",
       "      <th>interleukin-7 isoform 1 precursor</th>\n",
       "      <td>1</td>\n",
       "    </tr>\n",
       "    <tr>\n",
       "      <th>NP_690872</th>\n",
       "      <th>SLC47A2</th>\n",
       "      <th>multidrug and toxin extrusion protein 2 isoform 1</th>\n",
       "      <td>0</td>\n",
       "    </tr>\n",
       "    <tr>\n",
       "      <th>NP_683762</th>\n",
       "      <th>HUS1B</th>\n",
       "      <th>checkpoint protein HUS1B</th>\n",
       "      <td>1</td>\n",
       "    </tr>\n",
       "    <tr>\n",
       "      <th>NP_060064</th>\n",
       "      <th>DIRAS2</th>\n",
       "      <th>GTP-binding protein Di-Ras2</th>\n",
       "      <td>0</td>\n",
       "    </tr>\n",
       "    <tr>\n",
       "      <th>NP_699174</th>\n",
       "      <th>ENPP6</th>\n",
       "      <th>ectonucleotide pyrophosphatase/phosphodiesterase family member 6 precursor</th>\n",
       "      <td>1</td>\n",
       "    </tr>\n",
       "    <tr>\n",
       "      <th>NP_001164045</th>\n",
       "      <th>FAM46D</th>\n",
       "      <th>protein FAM46D</th>\n",
       "      <td>7</td>\n",
       "    </tr>\n",
       "    <tr>\n",
       "      <th>NP_001193600</th>\n",
       "      <th>NaN</th>\n",
       "      <th>protein RIC-3 isoform c precursor</th>\n",
       "      <td>5</td>\n",
       "    </tr>\n",
       "    <tr>\n",
       "      <th>NP_061134</th>\n",
       "      <th>BATF3</th>\n",
       "      <th>basic leucine zipper transcriptional factor ATF-like 3</th>\n",
       "      <td>1</td>\n",
       "    </tr>\n",
       "    <tr>\n",
       "      <th>NP_932347</th>\n",
       "      <th>SCML4</th>\n",
       "      <th>sex comb on midleg-like protein 4</th>\n",
       "      <td>1</td>\n",
       "    </tr>\n",
       "    <tr>\n",
       "      <th>NP_003593</th>\n",
       "      <th>FKBP6</th>\n",
       "      <th>peptidyl-prolyl cis-trans isomerase FKBP6 isoform a</th>\n",
       "      <td>1</td>\n",
       "    </tr>\n",
       "    <tr>\n",
       "      <th>NP_997203</th>\n",
       "      <th>OTUD6A</th>\n",
       "      <th>OTU domain-containing protein 6A</th>\n",
       "      <td>0</td>\n",
       "    </tr>\n",
       "    <tr>\n",
       "      <th>NP_001191293</th>\n",
       "      <th>NaN</th>\n",
       "      <th>protein FAM24B precursor</th>\n",
       "      <td>7</td>\n",
       "    </tr>\n",
       "    <tr>\n",
       "      <th>NP_775791</th>\n",
       "      <th>NaN</th>\n",
       "      <th>putative uncharacterized protein C9orf62</th>\n",
       "      <td>1</td>\n",
       "    </tr>\n",
       "    <tr>\n",
       "      <th>NP_004065</th>\n",
       "      <th>COX8A</th>\n",
       "      <th>cytochrome c oxidase subunit 8A, mitochondrial</th>\n",
       "      <td>1</td>\n",
       "    </tr>\n",
       "    <tr>\n",
       "      <th>NP_068752</th>\n",
       "      <th>MIIP</th>\n",
       "      <th>migration and invasion-inhibitory protein</th>\n",
       "      <td>1</td>\n",
       "    </tr>\n",
       "    <tr>\n",
       "      <th>NP_219494</th>\n",
       "      <th>KIAA1737</th>\n",
       "      <th>uncharacterized protein KIAA1737</th>\n",
       "      <td>1</td>\n",
       "    </tr>\n",
       "  </tbody>\n",
       "</table>\n",
       "<p>12553 rows × 1 columns</p>\n",
       "</div>"
      ],
      "text/plain": [
       "                                                                                        cluster\n",
       "RefSeq_accession_number gene_symbol gene_name                                                  \n",
       "NP_958782               PLEC        plectin isoform 1                                         6\n",
       "NP_958785               NaN         plectin isoform 1g                                        6\n",
       "NP_958786               PLEC        plectin isoform 1a                                        6\n",
       "NP_000436               NaN         plectin isoform 1c                                        6\n",
       "NP_958781               NaN         plectin isoform 1e                                        6\n",
       "NP_958780               PLEC        plectin isoform 1f                                        6\n",
       "NP_958783               PLEC        plectin isoform 1d                                        6\n",
       "NP_958784               NaN         plectin isoform 1b                                        6\n",
       "NP_112598               NaN         epiplakin                                                 0\n",
       "NP_001611               AHNAK       neuroblast differentiation-associated protein A...        1\n",
       "NP_076965               AHNAK       neuroblast differentiation-associated protein A...        1\n",
       "NP_001367               DYNC1H1     cytoplasmic dynein 1 heavy chain 1                        4\n",
       "NP_036222               MACF1       microtubule-actin cross-linking factor 1                  1\n",
       "NP_001138241            NaN         bullous pemphigoid antigen 1 isoform 2                    1\n",
       "NP_001714               DST         bullous pemphigoid antigen 1 isoform 1e precursor         0\n",
       "NP_002464               MYH9        myosin-9                                                  1\n",
       "NP_001073936            MYO5B       unconventional myosin-Vb                                  4\n",
       "NP_061198               MYO5C       unconventional myosin-Vc                                  1\n",
       "NP_001074248            MYO1C       unconventional myosin-Ic isoform a                        3\n",
       "NP_001074419            MYO1C       unconventional myosin-Ic isoform b                        3\n",
       "NP_056009               MYO1D       unconventional myosin-Id                                  6\n",
       "NP_036355               MYO1B       unconventional myosin-Ib isoform 2                        4\n",
       "NP_001155291            MYO1B       unconventional myosin-Ib isoform 1                        4\n",
       "NP_002462               MYH6        myosin-6                                                  1\n",
       "NP_000248               MYH7        myosin-7                                                  1\n",
       "NP_036467               MYO1F       unconventional myosin-If                                  5\n",
       "NP_004989               MYO1E       unconventional myosin-Ie                                  1\n",
       "NP_001243024            NaN         myosin-10 isoform 3                                       6\n",
       "NP_149043               MYO1G       unconventional myosin-Ig                                  5\n",
       "NP_067047               ZNF462      zinc finger protein 462                                   0\n",
       "...                                                                                         ...\n",
       "NP_004953               GDF10       bone morphogenetic protein 3B precursor                   1\n",
       "NP_001034806            C4ORF29     uncharacterized protein C4orf29 precursor                 0\n",
       "NP_065119               NaN         phospholipid-metabolizing enzyme A-C1                     4\n",
       "NP_110392               B3GNT4      UDP-GlcNAc:betaGal beta-1,3-N-acetylglucosaminy...        1\n",
       "NP_620138               NaN         zinc finger protein 653                                   1\n",
       "NP_062558               IRGC        interferon-inducible GTPase 5                             1\n",
       "NP_001005163            OR52D1      olfactory receptor 52D1                                   1\n",
       "NP_665813               CACNG6      voltage-dependent calcium channel gamma-6 subun...        1\n",
       "NP_005279               GPR12       G-protein coupled receptor 12                             0\n",
       "NP_998761               FOXN4       forkhead box protein N4                                   0\n",
       "YP_003024032            NaN         cytochrome c oxidase subunit III                          4\n",
       "NP_001165887            NaN         inward rectifier potassium channel 13 isoform 2           1\n",
       "NP_001010893            SLC10A5     sodium/bile acid cotransporter 5 precursor                1\n",
       "NP_872303               KRT40       keratin, type I cytoskeletal 40                           1\n",
       "NP_000871               IL7         interleukin-7 isoform 1 precursor                         1\n",
       "NP_690872               SLC47A2     multidrug and toxin extrusion protein 2 isoform 1         0\n",
       "NP_683762               HUS1B       checkpoint protein HUS1B                                  1\n",
       "NP_060064               DIRAS2      GTP-binding protein Di-Ras2                               0\n",
       "NP_699174               ENPP6       ectonucleotide pyrophosphatase/phosphodiesteras...        1\n",
       "NP_001164045            FAM46D      protein FAM46D                                            7\n",
       "NP_001193600            NaN         protein RIC-3 isoform c precursor                         5\n",
       "NP_061134               BATF3       basic leucine zipper transcriptional factor ATF...        1\n",
       "NP_932347               SCML4       sex comb on midleg-like protein 4                         1\n",
       "NP_003593               FKBP6       peptidyl-prolyl cis-trans isomerase FKBP6 isofo...        1\n",
       "NP_997203               OTUD6A      OTU domain-containing protein 6A                          0\n",
       "NP_001191293            NaN         protein FAM24B precursor                                  7\n",
       "NP_775791               NaN         putative uncharacterized protein C9orf62                  1\n",
       "NP_004065               COX8A       cytochrome c oxidase subunit 8A, mitochondrial            1\n",
       "NP_068752               MIIP        migration and invasion-inhibitory protein                 1\n",
       "NP_219494               KIAA1737    uncharacterized protein KIAA1737                          1\n",
       "\n",
       "[12553 rows x 1 columns]"
      ]
     },
     "execution_count": 17,
     "metadata": {},
     "output_type": "execute_result"
    }
   ],
   "source": [
    "models.cluster_proteins(8)"
   ]
  },
  {
   "cell_type": "markdown",
   "metadata": {
    "_uuid": "5777336611d9469110d7946cc6a5e40a0bd4b593"
   },
   "source": [
    "## Protein activity per patient\n",
    "Projecting the patient's protein activity onto the eigenvectors derived above, and then projecting those vectors into the space of the means of the clusters, the patients' activity for each cluster is calculated.\n"
   ]
  },
  {
   "cell_type": "code",
   "execution_count": 18,
   "metadata": {
    "_uuid": "f33766b93fc3102ec0b890b6297a5a1902a28574"
   },
   "outputs": [
    {
     "data": {
      "text/html": [
       "<div>\n",
       "<style scoped>\n",
       "    .dataframe tbody tr th:only-of-type {\n",
       "        vertical-align: middle;\n",
       "    }\n",
       "\n",
       "    .dataframe tbody tr th {\n",
       "        vertical-align: top;\n",
       "    }\n",
       "\n",
       "    .dataframe thead th {\n",
       "        text-align: right;\n",
       "    }\n",
       "</style>\n",
       "<table border=\"1\" class=\"dataframe\">\n",
       "  <thead>\n",
       "    <tr style=\"text-align: right;\">\n",
       "      <th>cluster</th>\n",
       "      <th>0</th>\n",
       "      <th>1</th>\n",
       "      <th>2</th>\n",
       "      <th>3</th>\n",
       "      <th>4</th>\n",
       "      <th>5</th>\n",
       "      <th>6</th>\n",
       "      <th>7</th>\n",
       "    </tr>\n",
       "  </thead>\n",
       "  <tbody>\n",
       "    <tr>\n",
       "      <th>TCGA-AO-A12D</th>\n",
       "      <td>0.917231</td>\n",
       "      <td>0.120564</td>\n",
       "      <td>-0.131219</td>\n",
       "      <td>-1.217355</td>\n",
       "      <td>1.694023</td>\n",
       "      <td>0.457643</td>\n",
       "      <td>0.660013</td>\n",
       "      <td>0.958409</td>\n",
       "    </tr>\n",
       "    <tr>\n",
       "      <th>TCGA-C8-A131</th>\n",
       "      <td>0.673408</td>\n",
       "      <td>0.104801</td>\n",
       "      <td>3.772445</td>\n",
       "      <td>-0.624512</td>\n",
       "      <td>0.805507</td>\n",
       "      <td>0.374236</td>\n",
       "      <td>0.601963</td>\n",
       "      <td>0.648450</td>\n",
       "    </tr>\n",
       "    <tr>\n",
       "      <th>TCGA-AO-A12B</th>\n",
       "      <td>-0.161929</td>\n",
       "      <td>-0.002945</td>\n",
       "      <td>-0.726941</td>\n",
       "      <td>-2.114828</td>\n",
       "      <td>-0.766855</td>\n",
       "      <td>-1.125559</td>\n",
       "      <td>-1.682631</td>\n",
       "      <td>-0.531601</td>\n",
       "    </tr>\n",
       "    <tr>\n",
       "      <th>TCGA-BH-A18Q</th>\n",
       "      <td>-2.379686</td>\n",
       "      <td>-0.258032</td>\n",
       "      <td>-1.217904</td>\n",
       "      <td>-0.507265</td>\n",
       "      <td>-0.576811</td>\n",
       "      <td>1.443751</td>\n",
       "      <td>-0.519773</td>\n",
       "      <td>-2.977502</td>\n",
       "    </tr>\n",
       "    <tr>\n",
       "      <th>TCGA-C8-A130</th>\n",
       "      <td>0.519268</td>\n",
       "      <td>0.145321</td>\n",
       "      <td>-0.787509</td>\n",
       "      <td>-0.602994</td>\n",
       "      <td>-0.273223</td>\n",
       "      <td>-0.437974</td>\n",
       "      <td>0.128785</td>\n",
       "      <td>0.656380</td>\n",
       "    </tr>\n",
       "    <tr>\n",
       "      <th>TCGA-C8-A138</th>\n",
       "      <td>1.316344</td>\n",
       "      <td>0.049237</td>\n",
       "      <td>0.093528</td>\n",
       "      <td>-1.720235</td>\n",
       "      <td>1.303145</td>\n",
       "      <td>-0.356289</td>\n",
       "      <td>0.618920</td>\n",
       "      <td>1.173797</td>\n",
       "    </tr>\n",
       "    <tr>\n",
       "      <th>TCGA-E2-A154</th>\n",
       "      <td>-2.102334</td>\n",
       "      <td>-0.014185</td>\n",
       "      <td>-1.619806</td>\n",
       "      <td>0.643387</td>\n",
       "      <td>-1.248601</td>\n",
       "      <td>-1.064173</td>\n",
       "      <td>0.644404</td>\n",
       "      <td>-2.179878</td>\n",
       "    </tr>\n",
       "    <tr>\n",
       "      <th>TCGA-C8-A12L</th>\n",
       "      <td>-0.242173</td>\n",
       "      <td>-0.035013</td>\n",
       "      <td>1.802298</td>\n",
       "      <td>-1.599100</td>\n",
       "      <td>0.215123</td>\n",
       "      <td>-0.654058</td>\n",
       "      <td>-0.422189</td>\n",
       "      <td>0.360405</td>\n",
       "    </tr>\n",
       "    <tr>\n",
       "      <th>TCGA-A2-A0EX</th>\n",
       "      <td>0.097901</td>\n",
       "      <td>0.053652</td>\n",
       "      <td>0.586685</td>\n",
       "      <td>0.369990</td>\n",
       "      <td>0.018764</td>\n",
       "      <td>-0.277335</td>\n",
       "      <td>2.015139</td>\n",
       "      <td>0.485558</td>\n",
       "    </tr>\n",
       "    <tr>\n",
       "      <th>TCGA-AO-A12D</th>\n",
       "      <td>0.793124</td>\n",
       "      <td>0.103141</td>\n",
       "      <td>-0.744562</td>\n",
       "      <td>-1.207224</td>\n",
       "      <td>1.693893</td>\n",
       "      <td>0.359029</td>\n",
       "      <td>0.594059</td>\n",
       "      <td>0.732777</td>\n",
       "    </tr>\n",
       "    <tr>\n",
       "      <th>TCGA-AN-A04A</th>\n",
       "      <td>0.603039</td>\n",
       "      <td>0.030380</td>\n",
       "      <td>0.004748</td>\n",
       "      <td>-1.269194</td>\n",
       "      <td>0.822723</td>\n",
       "      <td>-0.771833</td>\n",
       "      <td>0.329131</td>\n",
       "      <td>1.088049</td>\n",
       "    </tr>\n",
       "    <tr>\n",
       "      <th>TCGA-BH-A0AV</th>\n",
       "      <td>-1.049173</td>\n",
       "      <td>-0.209431</td>\n",
       "      <td>0.715354</td>\n",
       "      <td>2.761034</td>\n",
       "      <td>-0.771815</td>\n",
       "      <td>0.825606</td>\n",
       "      <td>1.118306</td>\n",
       "      <td>-0.874142</td>\n",
       "    </tr>\n",
       "    <tr>\n",
       "      <th>TCGA-C8-A12T</th>\n",
       "      <td>-1.140227</td>\n",
       "      <td>-0.545595</td>\n",
       "      <td>-0.739236</td>\n",
       "      <td>-0.968801</td>\n",
       "      <td>-2.288769</td>\n",
       "      <td>-0.640608</td>\n",
       "      <td>-0.105315</td>\n",
       "      <td>-1.787969</td>\n",
       "    </tr>\n",
       "    <tr>\n",
       "      <th>TCGA-A8-A06Z</th>\n",
       "      <td>0.490482</td>\n",
       "      <td>0.205819</td>\n",
       "      <td>-0.268262</td>\n",
       "      <td>-0.894539</td>\n",
       "      <td>0.194993</td>\n",
       "      <td>-0.622674</td>\n",
       "      <td>-0.749844</td>\n",
       "      <td>0.457219</td>\n",
       "    </tr>\n",
       "    <tr>\n",
       "      <th>TCGA-A2-A0CM</th>\n",
       "      <td>0.137868</td>\n",
       "      <td>-0.142386</td>\n",
       "      <td>0.329748</td>\n",
       "      <td>-1.251135</td>\n",
       "      <td>-0.151054</td>\n",
       "      <td>0.510661</td>\n",
       "      <td>-0.104095</td>\n",
       "      <td>0.437460</td>\n",
       "    </tr>\n",
       "    <tr>\n",
       "      <th>TCGA-BH-A18U</th>\n",
       "      <td>-0.926744</td>\n",
       "      <td>-0.108318</td>\n",
       "      <td>-0.754044</td>\n",
       "      <td>-0.211296</td>\n",
       "      <td>-1.713108</td>\n",
       "      <td>0.709259</td>\n",
       "      <td>0.266061</td>\n",
       "      <td>-1.535160</td>\n",
       "    </tr>\n",
       "    <tr>\n",
       "      <th>TCGA-A2-A0EQ</th>\n",
       "      <td>-0.082400</td>\n",
       "      <td>-0.202092</td>\n",
       "      <td>-1.343334</td>\n",
       "      <td>-1.817002</td>\n",
       "      <td>-0.212287</td>\n",
       "      <td>1.524106</td>\n",
       "      <td>-1.668900</td>\n",
       "      <td>0.274318</td>\n",
       "    </tr>\n",
       "    <tr>\n",
       "      <th>TCGA-AR-A0U4</th>\n",
       "      <td>0.206000</td>\n",
       "      <td>0.099158</td>\n",
       "      <td>2.947164</td>\n",
       "      <td>-0.123232</td>\n",
       "      <td>-0.005231</td>\n",
       "      <td>0.902975</td>\n",
       "      <td>-1.048846</td>\n",
       "      <td>0.223038</td>\n",
       "    </tr>\n",
       "    <tr>\n",
       "      <th>TCGA-AO-A0J9</th>\n",
       "      <td>0.757936</td>\n",
       "      <td>0.135512</td>\n",
       "      <td>0.620061</td>\n",
       "      <td>1.227867</td>\n",
       "      <td>0.257892</td>\n",
       "      <td>0.176283</td>\n",
       "      <td>0.506829</td>\n",
       "      <td>1.689599</td>\n",
       "    </tr>\n",
       "    <tr>\n",
       "      <th>TCGA-AR-A1AP</th>\n",
       "      <td>0.783995</td>\n",
       "      <td>0.048469</td>\n",
       "      <td>0.236434</td>\n",
       "      <td>-0.402045</td>\n",
       "      <td>0.729352</td>\n",
       "      <td>0.773384</td>\n",
       "      <td>0.628295</td>\n",
       "      <td>0.699475</td>\n",
       "    </tr>\n",
       "    <tr>\n",
       "      <th>TCGA-AN-A0FK</th>\n",
       "      <td>0.378143</td>\n",
       "      <td>0.103794</td>\n",
       "      <td>-1.646575</td>\n",
       "      <td>0.025626</td>\n",
       "      <td>-0.271869</td>\n",
       "      <td>-0.705449</td>\n",
       "      <td>1.396108</td>\n",
       "      <td>-0.025765</td>\n",
       "    </tr>\n",
       "    <tr>\n",
       "      <th>TCGA-AO-A0J6</th>\n",
       "      <td>0.255063</td>\n",
       "      <td>0.206468</td>\n",
       "      <td>0.555434</td>\n",
       "      <td>4.022737</td>\n",
       "      <td>0.047785</td>\n",
       "      <td>0.384484</td>\n",
       "      <td>2.169589</td>\n",
       "      <td>-0.173790</td>\n",
       "    </tr>\n",
       "    <tr>\n",
       "      <th>TCGA-A7-A13F</th>\n",
       "      <td>0.584811</td>\n",
       "      <td>0.109252</td>\n",
       "      <td>0.466157</td>\n",
       "      <td>-0.878318</td>\n",
       "      <td>0.343619</td>\n",
       "      <td>-0.848108</td>\n",
       "      <td>-0.231435</td>\n",
       "      <td>1.338641</td>\n",
       "    </tr>\n",
       "    <tr>\n",
       "      <th>TCGA-BH-A0E1</th>\n",
       "      <td>0.079693</td>\n",
       "      <td>0.177147</td>\n",
       "      <td>1.730447</td>\n",
       "      <td>3.816201</td>\n",
       "      <td>0.367607</td>\n",
       "      <td>-0.141941</td>\n",
       "      <td>0.928210</td>\n",
       "      <td>0.344128</td>\n",
       "    </tr>\n",
       "    <tr>\n",
       "      <th>TCGA-A7-A0CE</th>\n",
       "      <td>-0.050785</td>\n",
       "      <td>-0.094787</td>\n",
       "      <td>0.814062</td>\n",
       "      <td>-0.864279</td>\n",
       "      <td>-0.664029</td>\n",
       "      <td>-0.302059</td>\n",
       "      <td>-0.834993</td>\n",
       "      <td>0.091865</td>\n",
       "    </tr>\n",
       "    <tr>\n",
       "      <th>TCGA-A2-A0YC</th>\n",
       "      <td>0.833112</td>\n",
       "      <td>0.191354</td>\n",
       "      <td>-0.730003</td>\n",
       "      <td>0.077631</td>\n",
       "      <td>0.115187</td>\n",
       "      <td>-0.136398</td>\n",
       "      <td>1.028570</td>\n",
       "      <td>1.254047</td>\n",
       "    </tr>\n",
       "    <tr>\n",
       "      <th>TCGA-AO-A0JC</th>\n",
       "      <td>0.764774</td>\n",
       "      <td>0.020964</td>\n",
       "      <td>0.771385</td>\n",
       "      <td>-1.484431</td>\n",
       "      <td>0.892990</td>\n",
       "      <td>0.141705</td>\n",
       "      <td>-1.332314</td>\n",
       "      <td>0.474922</td>\n",
       "    </tr>\n",
       "    <tr>\n",
       "      <th>TCGA-A8-A08Z</th>\n",
       "      <td>-0.033877</td>\n",
       "      <td>-0.110863</td>\n",
       "      <td>-0.316938</td>\n",
       "      <td>-0.538831</td>\n",
       "      <td>-0.870464</td>\n",
       "      <td>-1.029470</td>\n",
       "      <td>0.808496</td>\n",
       "      <td>0.144158</td>\n",
       "    </tr>\n",
       "    <tr>\n",
       "      <th>TCGA-AR-A0TX</th>\n",
       "      <td>-1.275600</td>\n",
       "      <td>-0.490707</td>\n",
       "      <td>0.749656</td>\n",
       "      <td>2.465392</td>\n",
       "      <td>-0.851601</td>\n",
       "      <td>-0.420449</td>\n",
       "      <td>0.082912</td>\n",
       "      <td>-1.814469</td>\n",
       "    </tr>\n",
       "    <tr>\n",
       "      <th>TCGA-A8-A076</th>\n",
       "      <td>0.680126</td>\n",
       "      <td>0.134357</td>\n",
       "      <td>0.360515</td>\n",
       "      <td>-0.363537</td>\n",
       "      <td>1.066813</td>\n",
       "      <td>0.159673</td>\n",
       "      <td>0.855015</td>\n",
       "      <td>1.069442</td>\n",
       "    </tr>\n",
       "    <tr>\n",
       "      <th>...</th>\n",
       "      <td>...</td>\n",
       "      <td>...</td>\n",
       "      <td>...</td>\n",
       "      <td>...</td>\n",
       "      <td>...</td>\n",
       "      <td>...</td>\n",
       "      <td>...</td>\n",
       "      <td>...</td>\n",
       "    </tr>\n",
       "    <tr>\n",
       "      <th>TCGA-AO-A12E</th>\n",
       "      <td>0.871015</td>\n",
       "      <td>0.314237</td>\n",
       "      <td>1.557636</td>\n",
       "      <td>0.309245</td>\n",
       "      <td>0.777651</td>\n",
       "      <td>-0.117850</td>\n",
       "      <td>-1.267357</td>\n",
       "      <td>0.886868</td>\n",
       "    </tr>\n",
       "    <tr>\n",
       "      <th>TCGA-A8-A06N</th>\n",
       "      <td>0.952491</td>\n",
       "      <td>0.247580</td>\n",
       "      <td>1.197166</td>\n",
       "      <td>0.076300</td>\n",
       "      <td>0.998804</td>\n",
       "      <td>-0.485611</td>\n",
       "      <td>-0.555507</td>\n",
       "      <td>0.727358</td>\n",
       "    </tr>\n",
       "    <tr>\n",
       "      <th>TCGA-A2-A0YG</th>\n",
       "      <td>-0.698326</td>\n",
       "      <td>0.155990</td>\n",
       "      <td>-0.459619</td>\n",
       "      <td>0.841105</td>\n",
       "      <td>0.451221</td>\n",
       "      <td>-0.451672</td>\n",
       "      <td>-0.142505</td>\n",
       "      <td>-0.003560</td>\n",
       "    </tr>\n",
       "    <tr>\n",
       "      <th>TCGA-BH-A18N</th>\n",
       "      <td>-0.514780</td>\n",
       "      <td>0.149839</td>\n",
       "      <td>-0.810045</td>\n",
       "      <td>0.006025</td>\n",
       "      <td>0.198953</td>\n",
       "      <td>-1.088374</td>\n",
       "      <td>0.004320</td>\n",
       "      <td>0.428393</td>\n",
       "    </tr>\n",
       "    <tr>\n",
       "      <th>TCGA-AN-A0AL</th>\n",
       "      <td>1.549836</td>\n",
       "      <td>0.261377</td>\n",
       "      <td>-0.200611</td>\n",
       "      <td>-0.387584</td>\n",
       "      <td>1.308519</td>\n",
       "      <td>-0.420039</td>\n",
       "      <td>-0.574223</td>\n",
       "      <td>1.875161</td>\n",
       "    </tr>\n",
       "    <tr>\n",
       "      <th>TCGA-A2-A0T6</th>\n",
       "      <td>-1.050598</td>\n",
       "      <td>-0.006019</td>\n",
       "      <td>0.136709</td>\n",
       "      <td>1.099067</td>\n",
       "      <td>-0.636640</td>\n",
       "      <td>-0.679168</td>\n",
       "      <td>1.851987</td>\n",
       "      <td>-1.406010</td>\n",
       "    </tr>\n",
       "    <tr>\n",
       "      <th>TCGA-E2-A158</th>\n",
       "      <td>0.443269</td>\n",
       "      <td>0.043268</td>\n",
       "      <td>0.196434</td>\n",
       "      <td>-1.185346</td>\n",
       "      <td>0.560703</td>\n",
       "      <td>-0.337148</td>\n",
       "      <td>-0.752409</td>\n",
       "      <td>0.856408</td>\n",
       "    </tr>\n",
       "    <tr>\n",
       "      <th>TCGA-E2-A15A</th>\n",
       "      <td>0.453858</td>\n",
       "      <td>-0.066047</td>\n",
       "      <td>-0.298941</td>\n",
       "      <td>-1.486107</td>\n",
       "      <td>-0.172457</td>\n",
       "      <td>0.336261</td>\n",
       "      <td>0.079864</td>\n",
       "      <td>0.901992</td>\n",
       "    </tr>\n",
       "    <tr>\n",
       "      <th>TCGA-AO-A0JM</th>\n",
       "      <td>-1.369121</td>\n",
       "      <td>-0.005866</td>\n",
       "      <td>-0.814555</td>\n",
       "      <td>-0.549231</td>\n",
       "      <td>0.408554</td>\n",
       "      <td>-0.502153</td>\n",
       "      <td>0.671287</td>\n",
       "      <td>-1.945965</td>\n",
       "    </tr>\n",
       "    <tr>\n",
       "      <th>TCGA-C8-A12V</th>\n",
       "      <td>0.932728</td>\n",
       "      <td>-0.002951</td>\n",
       "      <td>0.342319</td>\n",
       "      <td>0.765919</td>\n",
       "      <td>0.592700</td>\n",
       "      <td>2.574303</td>\n",
       "      <td>-0.556005</td>\n",
       "      <td>1.046692</td>\n",
       "    </tr>\n",
       "    <tr>\n",
       "      <th>TCGA-A2-A0D2</th>\n",
       "      <td>-0.834954</td>\n",
       "      <td>-0.098151</td>\n",
       "      <td>-0.150815</td>\n",
       "      <td>-0.200125</td>\n",
       "      <td>-0.344557</td>\n",
       "      <td>0.004128</td>\n",
       "      <td>0.450681</td>\n",
       "      <td>-0.599897</td>\n",
       "    </tr>\n",
       "    <tr>\n",
       "      <th>TCGA-C8-A12U</th>\n",
       "      <td>0.877775</td>\n",
       "      <td>0.023142</td>\n",
       "      <td>0.657079</td>\n",
       "      <td>-1.187380</td>\n",
       "      <td>0.125775</td>\n",
       "      <td>1.126655</td>\n",
       "      <td>-0.959678</td>\n",
       "      <td>1.121942</td>\n",
       "    </tr>\n",
       "    <tr>\n",
       "      <th>TCGA-AR-A1AS</th>\n",
       "      <td>0.801597</td>\n",
       "      <td>0.157510</td>\n",
       "      <td>0.216057</td>\n",
       "      <td>-0.836565</td>\n",
       "      <td>0.919085</td>\n",
       "      <td>-0.891577</td>\n",
       "      <td>0.313107</td>\n",
       "      <td>1.423804</td>\n",
       "    </tr>\n",
       "    <tr>\n",
       "      <th>TCGA-A8-A09G</th>\n",
       "      <td>-2.292476</td>\n",
       "      <td>-0.259260</td>\n",
       "      <td>-1.496378</td>\n",
       "      <td>-0.746362</td>\n",
       "      <td>-0.366461</td>\n",
       "      <td>-0.093924</td>\n",
       "      <td>-1.550849</td>\n",
       "      <td>-2.190794</td>\n",
       "    </tr>\n",
       "    <tr>\n",
       "      <th>TCGA-C8-A131</th>\n",
       "      <td>0.386553</td>\n",
       "      <td>0.106474</td>\n",
       "      <td>3.904336</td>\n",
       "      <td>-0.389970</td>\n",
       "      <td>0.789711</td>\n",
       "      <td>0.485115</td>\n",
       "      <td>0.684570</td>\n",
       "      <td>0.497445</td>\n",
       "    </tr>\n",
       "    <tr>\n",
       "      <th>TCGA-C8-A134</th>\n",
       "      <td>0.525893</td>\n",
       "      <td>-0.031691</td>\n",
       "      <td>0.806747</td>\n",
       "      <td>-0.492438</td>\n",
       "      <td>-0.205700</td>\n",
       "      <td>0.193696</td>\n",
       "      <td>0.467710</td>\n",
       "      <td>0.509561</td>\n",
       "    </tr>\n",
       "    <tr>\n",
       "      <th>TCGA-A2-A0YF</th>\n",
       "      <td>0.787091</td>\n",
       "      <td>0.086004</td>\n",
       "      <td>0.293212</td>\n",
       "      <td>1.159777</td>\n",
       "      <td>0.192376</td>\n",
       "      <td>0.052637</td>\n",
       "      <td>0.112031</td>\n",
       "      <td>1.243576</td>\n",
       "    </tr>\n",
       "    <tr>\n",
       "      <th>TCGA-BH-A0DD</th>\n",
       "      <td>-0.911529</td>\n",
       "      <td>-0.237907</td>\n",
       "      <td>-1.231409</td>\n",
       "      <td>-1.143342</td>\n",
       "      <td>-0.819065</td>\n",
       "      <td>-0.382318</td>\n",
       "      <td>-1.172092</td>\n",
       "      <td>-1.442808</td>\n",
       "    </tr>\n",
       "    <tr>\n",
       "      <th>TCGA-BH-A0E9</th>\n",
       "      <td>0.301816</td>\n",
       "      <td>0.144778</td>\n",
       "      <td>0.613737</td>\n",
       "      <td>3.968596</td>\n",
       "      <td>-0.104108</td>\n",
       "      <td>0.071210</td>\n",
       "      <td>1.795756</td>\n",
       "      <td>-0.017093</td>\n",
       "    </tr>\n",
       "    <tr>\n",
       "      <th>TCGA-AR-A0TT</th>\n",
       "      <td>0.157462</td>\n",
       "      <td>-0.079304</td>\n",
       "      <td>-1.232214</td>\n",
       "      <td>0.286491</td>\n",
       "      <td>0.685037</td>\n",
       "      <td>1.916948</td>\n",
       "      <td>0.503417</td>\n",
       "      <td>0.943847</td>\n",
       "    </tr>\n",
       "    <tr>\n",
       "      <th>TCGA-AO-A12B</th>\n",
       "      <td>-0.661246</td>\n",
       "      <td>-0.099084</td>\n",
       "      <td>-1.863842</td>\n",
       "      <td>-2.381620</td>\n",
       "      <td>-1.301114</td>\n",
       "      <td>-1.332435</td>\n",
       "      <td>-2.162211</td>\n",
       "      <td>-1.166960</td>\n",
       "    </tr>\n",
       "    <tr>\n",
       "      <th>TCGA-A2-A0SW</th>\n",
       "      <td>0.538325</td>\n",
       "      <td>0.080636</td>\n",
       "      <td>0.079095</td>\n",
       "      <td>1.291391</td>\n",
       "      <td>-1.029082</td>\n",
       "      <td>0.533873</td>\n",
       "      <td>-0.092198</td>\n",
       "      <td>0.406499</td>\n",
       "    </tr>\n",
       "    <tr>\n",
       "      <th>TCGA-AO-A0JL</th>\n",
       "      <td>0.509226</td>\n",
       "      <td>0.135562</td>\n",
       "      <td>0.498512</td>\n",
       "      <td>1.263915</td>\n",
       "      <td>-0.858991</td>\n",
       "      <td>0.020734</td>\n",
       "      <td>0.478730</td>\n",
       "      <td>0.645057</td>\n",
       "    </tr>\n",
       "    <tr>\n",
       "      <th>TCGA-BH-A0BV</th>\n",
       "      <td>0.524899</td>\n",
       "      <td>0.071850</td>\n",
       "      <td>0.403300</td>\n",
       "      <td>1.157586</td>\n",
       "      <td>-1.045576</td>\n",
       "      <td>-0.115905</td>\n",
       "      <td>0.077928</td>\n",
       "      <td>0.665337</td>\n",
       "    </tr>\n",
       "    <tr>\n",
       "      <th>TCGA-A2-A0YM</th>\n",
       "      <td>1.103341</td>\n",
       "      <td>0.259335</td>\n",
       "      <td>1.792096</td>\n",
       "      <td>3.498928</td>\n",
       "      <td>0.137367</td>\n",
       "      <td>1.100876</td>\n",
       "      <td>1.645822</td>\n",
       "      <td>1.182524</td>\n",
       "    </tr>\n",
       "    <tr>\n",
       "      <th>TCGA-BH-A0C7</th>\n",
       "      <td>0.286719</td>\n",
       "      <td>-0.127704</td>\n",
       "      <td>-0.006070</td>\n",
       "      <td>0.071831</td>\n",
       "      <td>-0.828869</td>\n",
       "      <td>-0.473030</td>\n",
       "      <td>0.190112</td>\n",
       "      <td>0.399791</td>\n",
       "    </tr>\n",
       "    <tr>\n",
       "      <th>TCGA-A2-A0SX</th>\n",
       "      <td>0.701843</td>\n",
       "      <td>-0.046272</td>\n",
       "      <td>2.132516</td>\n",
       "      <td>2.085149</td>\n",
       "      <td>-0.588166</td>\n",
       "      <td>1.413544</td>\n",
       "      <td>0.403965</td>\n",
       "      <td>0.845956</td>\n",
       "    </tr>\n",
       "    <tr>\n",
       "      <th>TCGA-263d3f-I</th>\n",
       "      <td>0.209740</td>\n",
       "      <td>0.234159</td>\n",
       "      <td>1.773149</td>\n",
       "      <td>3.657372</td>\n",
       "      <td>-0.349064</td>\n",
       "      <td>-0.176786</td>\n",
       "      <td>0.689142</td>\n",
       "      <td>-0.292076</td>\n",
       "    </tr>\n",
       "    <tr>\n",
       "      <th>TCGA-blcdb9-I</th>\n",
       "      <td>-0.074353</td>\n",
       "      <td>-0.052396</td>\n",
       "      <td>0.772905</td>\n",
       "      <td>1.145733</td>\n",
       "      <td>-0.285471</td>\n",
       "      <td>-0.535294</td>\n",
       "      <td>-0.407381</td>\n",
       "      <td>-0.646755</td>\n",
       "    </tr>\n",
       "    <tr>\n",
       "      <th>TCGA-c4155b-C</th>\n",
       "      <td>0.564590</td>\n",
       "      <td>0.279409</td>\n",
       "      <td>1.974985</td>\n",
       "      <td>3.874604</td>\n",
       "      <td>0.155938</td>\n",
       "      <td>0.085293</td>\n",
       "      <td>0.835222</td>\n",
       "      <td>-0.006358</td>\n",
       "    </tr>\n",
       "  </tbody>\n",
       "</table>\n",
       "<p>83 rows × 8 columns</p>\n",
       "</div>"
      ],
      "text/plain": [
       "cluster               0         1         2         3         4         5  \\\n",
       "TCGA-AO-A12D   0.917231  0.120564 -0.131219 -1.217355  1.694023  0.457643   \n",
       "TCGA-C8-A131   0.673408  0.104801  3.772445 -0.624512  0.805507  0.374236   \n",
       "TCGA-AO-A12B  -0.161929 -0.002945 -0.726941 -2.114828 -0.766855 -1.125559   \n",
       "TCGA-BH-A18Q  -2.379686 -0.258032 -1.217904 -0.507265 -0.576811  1.443751   \n",
       "TCGA-C8-A130   0.519268  0.145321 -0.787509 -0.602994 -0.273223 -0.437974   \n",
       "TCGA-C8-A138   1.316344  0.049237  0.093528 -1.720235  1.303145 -0.356289   \n",
       "TCGA-E2-A154  -2.102334 -0.014185 -1.619806  0.643387 -1.248601 -1.064173   \n",
       "TCGA-C8-A12L  -0.242173 -0.035013  1.802298 -1.599100  0.215123 -0.654058   \n",
       "TCGA-A2-A0EX   0.097901  0.053652  0.586685  0.369990  0.018764 -0.277335   \n",
       "TCGA-AO-A12D   0.793124  0.103141 -0.744562 -1.207224  1.693893  0.359029   \n",
       "TCGA-AN-A04A   0.603039  0.030380  0.004748 -1.269194  0.822723 -0.771833   \n",
       "TCGA-BH-A0AV  -1.049173 -0.209431  0.715354  2.761034 -0.771815  0.825606   \n",
       "TCGA-C8-A12T  -1.140227 -0.545595 -0.739236 -0.968801 -2.288769 -0.640608   \n",
       "TCGA-A8-A06Z   0.490482  0.205819 -0.268262 -0.894539  0.194993 -0.622674   \n",
       "TCGA-A2-A0CM   0.137868 -0.142386  0.329748 -1.251135 -0.151054  0.510661   \n",
       "TCGA-BH-A18U  -0.926744 -0.108318 -0.754044 -0.211296 -1.713108  0.709259   \n",
       "TCGA-A2-A0EQ  -0.082400 -0.202092 -1.343334 -1.817002 -0.212287  1.524106   \n",
       "TCGA-AR-A0U4   0.206000  0.099158  2.947164 -0.123232 -0.005231  0.902975   \n",
       "TCGA-AO-A0J9   0.757936  0.135512  0.620061  1.227867  0.257892  0.176283   \n",
       "TCGA-AR-A1AP   0.783995  0.048469  0.236434 -0.402045  0.729352  0.773384   \n",
       "TCGA-AN-A0FK   0.378143  0.103794 -1.646575  0.025626 -0.271869 -0.705449   \n",
       "TCGA-AO-A0J6   0.255063  0.206468  0.555434  4.022737  0.047785  0.384484   \n",
       "TCGA-A7-A13F   0.584811  0.109252  0.466157 -0.878318  0.343619 -0.848108   \n",
       "TCGA-BH-A0E1   0.079693  0.177147  1.730447  3.816201  0.367607 -0.141941   \n",
       "TCGA-A7-A0CE  -0.050785 -0.094787  0.814062 -0.864279 -0.664029 -0.302059   \n",
       "TCGA-A2-A0YC   0.833112  0.191354 -0.730003  0.077631  0.115187 -0.136398   \n",
       "TCGA-AO-A0JC   0.764774  0.020964  0.771385 -1.484431  0.892990  0.141705   \n",
       "TCGA-A8-A08Z  -0.033877 -0.110863 -0.316938 -0.538831 -0.870464 -1.029470   \n",
       "TCGA-AR-A0TX  -1.275600 -0.490707  0.749656  2.465392 -0.851601 -0.420449   \n",
       "TCGA-A8-A076   0.680126  0.134357  0.360515 -0.363537  1.066813  0.159673   \n",
       "...                 ...       ...       ...       ...       ...       ...   \n",
       "TCGA-AO-A12E   0.871015  0.314237  1.557636  0.309245  0.777651 -0.117850   \n",
       "TCGA-A8-A06N   0.952491  0.247580  1.197166  0.076300  0.998804 -0.485611   \n",
       "TCGA-A2-A0YG  -0.698326  0.155990 -0.459619  0.841105  0.451221 -0.451672   \n",
       "TCGA-BH-A18N  -0.514780  0.149839 -0.810045  0.006025  0.198953 -1.088374   \n",
       "TCGA-AN-A0AL   1.549836  0.261377 -0.200611 -0.387584  1.308519 -0.420039   \n",
       "TCGA-A2-A0T6  -1.050598 -0.006019  0.136709  1.099067 -0.636640 -0.679168   \n",
       "TCGA-E2-A158   0.443269  0.043268  0.196434 -1.185346  0.560703 -0.337148   \n",
       "TCGA-E2-A15A   0.453858 -0.066047 -0.298941 -1.486107 -0.172457  0.336261   \n",
       "TCGA-AO-A0JM  -1.369121 -0.005866 -0.814555 -0.549231  0.408554 -0.502153   \n",
       "TCGA-C8-A12V   0.932728 -0.002951  0.342319  0.765919  0.592700  2.574303   \n",
       "TCGA-A2-A0D2  -0.834954 -0.098151 -0.150815 -0.200125 -0.344557  0.004128   \n",
       "TCGA-C8-A12U   0.877775  0.023142  0.657079 -1.187380  0.125775  1.126655   \n",
       "TCGA-AR-A1AS   0.801597  0.157510  0.216057 -0.836565  0.919085 -0.891577   \n",
       "TCGA-A8-A09G  -2.292476 -0.259260 -1.496378 -0.746362 -0.366461 -0.093924   \n",
       "TCGA-C8-A131   0.386553  0.106474  3.904336 -0.389970  0.789711  0.485115   \n",
       "TCGA-C8-A134   0.525893 -0.031691  0.806747 -0.492438 -0.205700  0.193696   \n",
       "TCGA-A2-A0YF   0.787091  0.086004  0.293212  1.159777  0.192376  0.052637   \n",
       "TCGA-BH-A0DD  -0.911529 -0.237907 -1.231409 -1.143342 -0.819065 -0.382318   \n",
       "TCGA-BH-A0E9   0.301816  0.144778  0.613737  3.968596 -0.104108  0.071210   \n",
       "TCGA-AR-A0TT   0.157462 -0.079304 -1.232214  0.286491  0.685037  1.916948   \n",
       "TCGA-AO-A12B  -0.661246 -0.099084 -1.863842 -2.381620 -1.301114 -1.332435   \n",
       "TCGA-A2-A0SW   0.538325  0.080636  0.079095  1.291391 -1.029082  0.533873   \n",
       "TCGA-AO-A0JL   0.509226  0.135562  0.498512  1.263915 -0.858991  0.020734   \n",
       "TCGA-BH-A0BV   0.524899  0.071850  0.403300  1.157586 -1.045576 -0.115905   \n",
       "TCGA-A2-A0YM   1.103341  0.259335  1.792096  3.498928  0.137367  1.100876   \n",
       "TCGA-BH-A0C7   0.286719 -0.127704 -0.006070  0.071831 -0.828869 -0.473030   \n",
       "TCGA-A2-A0SX   0.701843 -0.046272  2.132516  2.085149 -0.588166  1.413544   \n",
       "TCGA-263d3f-I  0.209740  0.234159  1.773149  3.657372 -0.349064 -0.176786   \n",
       "TCGA-blcdb9-I -0.074353 -0.052396  0.772905  1.145733 -0.285471 -0.535294   \n",
       "TCGA-c4155b-C  0.564590  0.279409  1.974985  3.874604  0.155938  0.085293   \n",
       "\n",
       "cluster               6         7  \n",
       "TCGA-AO-A12D   0.660013  0.958409  \n",
       "TCGA-C8-A131   0.601963  0.648450  \n",
       "TCGA-AO-A12B  -1.682631 -0.531601  \n",
       "TCGA-BH-A18Q  -0.519773 -2.977502  \n",
       "TCGA-C8-A130   0.128785  0.656380  \n",
       "TCGA-C8-A138   0.618920  1.173797  \n",
       "TCGA-E2-A154   0.644404 -2.179878  \n",
       "TCGA-C8-A12L  -0.422189  0.360405  \n",
       "TCGA-A2-A0EX   2.015139  0.485558  \n",
       "TCGA-AO-A12D   0.594059  0.732777  \n",
       "TCGA-AN-A04A   0.329131  1.088049  \n",
       "TCGA-BH-A0AV   1.118306 -0.874142  \n",
       "TCGA-C8-A12T  -0.105315 -1.787969  \n",
       "TCGA-A8-A06Z  -0.749844  0.457219  \n",
       "TCGA-A2-A0CM  -0.104095  0.437460  \n",
       "TCGA-BH-A18U   0.266061 -1.535160  \n",
       "TCGA-A2-A0EQ  -1.668900  0.274318  \n",
       "TCGA-AR-A0U4  -1.048846  0.223038  \n",
       "TCGA-AO-A0J9   0.506829  1.689599  \n",
       "TCGA-AR-A1AP   0.628295  0.699475  \n",
       "TCGA-AN-A0FK   1.396108 -0.025765  \n",
       "TCGA-AO-A0J6   2.169589 -0.173790  \n",
       "TCGA-A7-A13F  -0.231435  1.338641  \n",
       "TCGA-BH-A0E1   0.928210  0.344128  \n",
       "TCGA-A7-A0CE  -0.834993  0.091865  \n",
       "TCGA-A2-A0YC   1.028570  1.254047  \n",
       "TCGA-AO-A0JC  -1.332314  0.474922  \n",
       "TCGA-A8-A08Z   0.808496  0.144158  \n",
       "TCGA-AR-A0TX   0.082912 -1.814469  \n",
       "TCGA-A8-A076   0.855015  1.069442  \n",
       "...                 ...       ...  \n",
       "TCGA-AO-A12E  -1.267357  0.886868  \n",
       "TCGA-A8-A06N  -0.555507  0.727358  \n",
       "TCGA-A2-A0YG  -0.142505 -0.003560  \n",
       "TCGA-BH-A18N   0.004320  0.428393  \n",
       "TCGA-AN-A0AL  -0.574223  1.875161  \n",
       "TCGA-A2-A0T6   1.851987 -1.406010  \n",
       "TCGA-E2-A158  -0.752409  0.856408  \n",
       "TCGA-E2-A15A   0.079864  0.901992  \n",
       "TCGA-AO-A0JM   0.671287 -1.945965  \n",
       "TCGA-C8-A12V  -0.556005  1.046692  \n",
       "TCGA-A2-A0D2   0.450681 -0.599897  \n",
       "TCGA-C8-A12U  -0.959678  1.121942  \n",
       "TCGA-AR-A1AS   0.313107  1.423804  \n",
       "TCGA-A8-A09G  -1.550849 -2.190794  \n",
       "TCGA-C8-A131   0.684570  0.497445  \n",
       "TCGA-C8-A134   0.467710  0.509561  \n",
       "TCGA-A2-A0YF   0.112031  1.243576  \n",
       "TCGA-BH-A0DD  -1.172092 -1.442808  \n",
       "TCGA-BH-A0E9   1.795756 -0.017093  \n",
       "TCGA-AR-A0TT   0.503417  0.943847  \n",
       "TCGA-AO-A12B  -2.162211 -1.166960  \n",
       "TCGA-A2-A0SW  -0.092198  0.406499  \n",
       "TCGA-AO-A0JL   0.478730  0.645057  \n",
       "TCGA-BH-A0BV   0.077928  0.665337  \n",
       "TCGA-A2-A0YM   1.645822  1.182524  \n",
       "TCGA-BH-A0C7   0.190112  0.399791  \n",
       "TCGA-A2-A0SX   0.403965  0.845956  \n",
       "TCGA-263d3f-I  0.689142 -0.292076  \n",
       "TCGA-blcdb9-I -0.407381 -0.646755  \n",
       "TCGA-c4155b-C  0.835222 -0.006358  \n",
       "\n",
       "[83 rows x 8 columns]"
      ]
     },
     "execution_count": 18,
     "metadata": {},
     "output_type": "execute_result"
    }
   ],
   "source": [
    "models.patient_cluster_activity()"
   ]
  },
  {
   "cell_type": "markdown",
   "metadata": {
    "_uuid": "4c4876e41a1bdbc23b972044b746e9dd55543359"
   },
   "source": [
    "## Modelling clinical features\n",
    "\n",
    "A set of generalized linear predictors (LassoLars for numerical variables, Logistic Regression for categorical variables) is then fit to the clinical data, using the protein cluster activity as the independent variables"
   ]
  },
  {
   "cell_type": "code",
   "execution_count": 19,
   "metadata": {
    "_uuid": "c3ec82d89188ab17e12bdd9c170bfd639a05595a"
   },
   "outputs": [
    {
     "name": "stderr",
     "output_type": "stream",
     "text": [
      "/Users/axelsirota/repos/interpreting-data-with-advanced-models/pluralsight/lib/python3.6/site-packages/sklearn/linear_model/logistic.py:469: FutureWarning: Default multi_class will be changed to 'auto' in 0.22. Specify the multi_class option to silence this warning.\n",
      "  \"this warning.\", FutureWarning)\n"
     ]
    },
    {
     "data": {
      "text/plain": [
       "<matplotlib.axes._subplots.AxesSubplot at 0x12c6339b0>"
      ]
     },
     "execution_count": 19,
     "metadata": {},
     "output_type": "execute_result"
    },
    {
     "data": {
      "image/png": "[encoded data removed]",
      "text/plain": [
       "<Figure size 432x288 with 1 Axes>"
      ]
     },
     "metadata": {
      "needs_background": "light"
     },
     "output_type": "display_data"
    }
   ],
   "source": [
    "models.train_clinical_models()"
   ]
  },
  {
   "cell_type": "markdown",
   "metadata": {
    "_uuid": "b744f8f0129d28c99e434525136139884c9f1adf"
   },
   "source": [
    "Strong predictors can be found for several clinical factors. These are discussed below.\n",
    "\n",
    "## Gender"
   ]
  },
  {
   "cell_type": "code",
   "execution_count": 20,
   "metadata": {
    "_uuid": "b34b393fb981e569bb0d993f82fb2718dbcfafb7"
   },
   "outputs": [
    {
     "data": {
      "text/plain": [
       "<matplotlib.axes._subplots.AxesSubplot at 0x1352d0d68>"
      ]
     },
     "execution_count": 20,
     "metadata": {},
     "output_type": "execute_result"
    },
    {
     "data": {
      "image/png": "[encoded data removed]",
      "text/plain": [
       "<Figure size 432x288 with 1 Axes>"
      ]
     },
     "metadata": {
      "needs_background": "light"
     },
     "output_type": "display_data"
    }
   ],
   "source": [
    "models.visualize('Gender')"
   ]
  },
  {
   "cell_type": "markdown",
   "metadata": {
    "_uuid": "0e30c652f1105460aea07070c05a35863c7f7e57"
   },
   "source": [
    "Activity of cluster 0 is greater in female patents, while activity in clusters 2, 3, 6 and 7 is greater in male patients.\n",
    "\n",
    "## ER Status"
   ]
  },
  {
   "cell_type": "code",
   "execution_count": 21,
   "metadata": {
    "_uuid": "1ed0494b4fb8a0d678b6d1cdfb1ac772cb3e4236"
   },
   "outputs": [
    {
     "data": {
      "text/plain": [
       "<matplotlib.axes._subplots.AxesSubplot at 0x12ae199b0>"
      ]
     },
     "execution_count": 21,
     "metadata": {},
     "output_type": "execute_result"
    },
    {
     "data": {
      "image/png": "[encoded data removed]",
      "text/plain": [
       "<Figure size 432x288 with 1 Axes>"
      ]
     },
     "metadata": {
      "needs_background": "light"
     },
     "output_type": "display_data"
    }
   ],
   "source": [
    "models.visualize('ER Status')"
   ]
  },
  {
   "cell_type": "markdown",
   "metadata": {
    "_uuid": "611a9bf61dcfa4229aee5f53e30f7420198fe902"
   },
   "source": [
    "Activity in clusters 2, 4 and 5 makes positive ER status more likely, while it is less likely in patients with activity in clusters 1 and 7.\n",
    "\n",
    "## PR Status"
   ]
  },
  {
   "cell_type": "code",
   "execution_count": 22,
   "metadata": {
    "_uuid": "a7728f5d154142a8b3f313d2dc02f7820f962485"
   },
   "outputs": [
    {
     "data": {
      "text/plain": [
       "<matplotlib.axes._subplots.AxesSubplot at 0x12aa93630>"
      ]
     },
     "execution_count": 22,
     "metadata": {},
     "output_type": "execute_result"
    },
    {
     "data": {
      "image/png": "[encoded data removed]",
      "text/plain": [
       "<Figure size 432x288 with 1 Axes>"
      ]
     },
     "metadata": {
      "needs_background": "light"
     },
     "output_type": "display_data"
    }
   ],
   "source": [
    "models.visualize('PR Status')"
   ]
  },
  {
   "cell_type": "markdown",
   "metadata": {
    "_uuid": "f7c3a63f007d9783b1b7f2c07bf4afc333ea5c1a"
   },
   "source": [
    "The same clusters are correlated in the same way with ER status.\n",
    "\n",
    "## HER2 Final Status"
   ]
  },
  {
   "cell_type": "code",
   "execution_count": 23,
   "metadata": {
    "_uuid": "d99bb9b8af1a00da8d0394059a635b41828f6891"
   },
   "outputs": [
    {
     "data": {
      "text/plain": [
       "<matplotlib.axes._subplots.AxesSubplot at 0x134889470>"
      ]
     },
     "execution_count": 23,
     "metadata": {},
     "output_type": "execute_result"
    },
    {
     "data": {
      "image/png": "[encoded data removed]",
      "text/plain": [
       "<Figure size 432x288 with 1 Axes>"
      ]
     },
     "metadata": {
      "needs_background": "light"
     },
     "output_type": "display_data"
    }
   ],
   "source": [
    "models.visualize('HER2 Final Status')"
   ]
  },
  {
   "cell_type": "markdown",
   "metadata": {
    "_uuid": "c8bd2b463458dd4cac679b0124fc470efe15a7f6"
   },
   "source": [
    "HER2 Final status is much more likely to be negative in patients with activity in clusters 1 and 7, and more likely to be positive in patients with activity in cluster 4.\n",
    "\n",
    "## Tumor"
   ]
  },
  {
   "cell_type": "code",
   "execution_count": 24,
   "metadata": {
    "_uuid": "e0daa2db479efccd6251ce87b9e9386450b97714"
   },
   "outputs": [
    {
     "data": {
      "text/plain": [
       "<matplotlib.axes._subplots.AxesSubplot at 0x12ae31c88>"
      ]
     },
     "execution_count": 24,
     "metadata": {},
     "output_type": "execute_result"
    },
    {
     "data": {
      "image/png": "[encoded data removed]",
      "text/plain": [
       "<Figure size 432x288 with 1 Axes>"
      ]
     },
     "metadata": {
      "needs_background": "light"
     },
     "output_type": "display_data"
    }
   ],
   "source": [
    "models.visualize('Tumor')"
   ]
  },
  {
   "cell_type": "markdown",
   "metadata": {
    "_uuid": "babd2c627802d54837bfdc42a8e318750b7e5615"
   },
   "source": [
    "* T1 tumors are most likely in patients with activity in clusters 4 and 5, and least likely in patients with activity in clusters 0 and 1.\n",
    "* T2 tumors are most likely in patients with activity in cluster 5.\n",
    "* T3 tumors are significantly less likely in patients with activity in cluster 0.\n",
    "* T4 tumors are most likely in patients with activity on cluster 0 and least likely in patients with activity in cluster 5.\n",
    "\n",
    "## Node"
   ]
  },
  {
   "cell_type": "code",
   "execution_count": 25,
   "metadata": {
    "_uuid": "db5159158a8d3aa4229f134a8826084565b3cea1"
   },
   "outputs": [
    {
     "data": {
      "text/plain": [
       "<matplotlib.axes._subplots.AxesSubplot at 0x1352b6668>"
      ]
     },
     "execution_count": 25,
     "metadata": {},
     "output_type": "execute_result"
    },
    {
     "data": {
      "image/png": "[encoded data removed]",
      "text/plain": [
       "<Figure size 432x288 with 1 Axes>"
      ]
     },
     "metadata": {
      "needs_background": "light"
     },
     "output_type": "display_data"
    }
   ],
   "source": [
    "models.visualize('Node')"
   ]
  },
  {
   "cell_type": "markdown",
   "metadata": {
    "_uuid": "c3512541da126c10e56023ae1a2824b0c6fc7e72"
   },
   "source": [
    "* N0 Node is slighlty more likely in patients with activity in cluster 0, and slightly less likely in patients with activity in clusters 6 and 7.\n",
    "* N1 Node is most likely in patients with activity in cluster 4 and least likely in patients with activity in cluster 1\n",
    "* N2 Node is most likely in patients with activity in clusters 5 and 6 and least likely patients with activity in cluster 3.\n",
    "* N3 Node is most likely in patients with activity in cluster 7 and least likely in patients with activity in cluster 0.\n",
    "\n",
    "## Metastasis"
   ]
  },
  {
   "cell_type": "code",
   "execution_count": 26,
   "metadata": {
    "_uuid": "5eb248ae2f5bf052349f732ec364ee683bcba72b"
   },
   "outputs": [
    {
     "data": {
      "text/plain": [
       "<matplotlib.axes._subplots.AxesSubplot at 0x1352b6f60>"
      ]
     },
     "execution_count": 26,
     "metadata": {},
     "output_type": "execute_result"
    },
    {
     "data": {
      "image/png": "[encoded data removed]",
      "text/plain": [
       "<Figure size 432x288 with 1 Axes>"
      ]
     },
     "metadata": {
      "needs_background": "light"
     },
     "output_type": "display_data"
    }
   ],
   "source": [
    "models.visualize('Metastasis-Coded')"
   ]
  },
  {
   "cell_type": "markdown",
   "metadata": {
    "_uuid": "8d9fe04cfe40d32820f6e3ccebe8596d5ced8652"
   },
   "source": [
    "Metastasis is least likely in patients with activity in cluster 4. This result should be treated with caution, as few patients in this sample exhibit metastasis."
   ]
  },
  {
   "cell_type": "code",
   "execution_count": 27,
   "metadata": {
    "_uuid": "e0e341ed73a8344ed1e10ddb72727b392a9f70d2"
   },
   "outputs": [
    {
     "data": {
      "text/plain": [
       "<matplotlib.axes._subplots.AxesSubplot at 0x12c50e550>"
      ]
     },
     "execution_count": 27,
     "metadata": {},
     "output_type": "execute_result"
    },
    {
     "data": {
      "image/png": "[encoded data removed]",
      "text/plain": [
       "<Figure size 432x288 with 1 Axes>"
      ]
     },
     "metadata": {
      "needs_background": "light"
     },
     "output_type": "display_data"
    }
   ],
   "source": [
    "models.visualize('AJCC Stage')"
   ]
  },
  {
   "cell_type": "markdown",
   "metadata": {
    "_uuid": "2ca54a7e196a312567c06517278b805dd63a8776"
   },
   "source": [
    "## Vital Status"
   ]
  },
  {
   "cell_type": "code",
   "execution_count": 28,
   "metadata": {
    "_uuid": "fe9e24fcaf35d68eeafaf78cef709791e0a42370"
   },
   "outputs": [
    {
     "data": {
      "text/plain": [
       "<matplotlib.axes._subplots.AxesSubplot at 0x12c9bf908>"
      ]
     },
     "execution_count": 28,
     "metadata": {},
     "output_type": "execute_result"
    },
    {
     "data": {
      "image/png": "[encoded data removed]",
      "text/plain": [
       "<Figure size 432x288 with 1 Axes>"
      ]
     },
     "metadata": {
      "needs_background": "light"
     },
     "output_type": "display_data"
    }
   ],
   "source": [
    "models.visualize('Vital Status')"
   ]
  },
  {
   "cell_type": "markdown",
   "metadata": {
    "_uuid": "3b8fd8324160a8874eb6a18b6df111e7d6ac9014"
   },
   "source": [
    "Patients with activity in cluster 0 are most likely to die. Patients with activity in cluster 1 are least likely to die."
   ]
  },
  {
   "cell_type": "code",
   "execution_count": 29,
   "metadata": {
    "_uuid": "c511b86c21b2cdcd93ba929647d5d48276592c8e"
   },
   "outputs": [
    {
     "data": {
      "text/plain": [
       "<matplotlib.axes._subplots.AxesSubplot at 0x12c94f898>"
      ]
     },
     "execution_count": 29,
     "metadata": {},
     "output_type": "execute_result"
    },
    {
     "data": {
      "image/png": "[encoded data removed]",
      "text/plain": [
       "<Figure size 432x288 with 1 Axes>"
      ]
     },
     "metadata": {
      "needs_background": "light"
     },
     "output_type": "display_data"
    }
   ],
   "source": [
    "models.visualize('OS Time')"
   ]
  },
  {
   "cell_type": "markdown",
   "metadata": {
    "_uuid": "e1668b1fb2eab64aff86abe024f87d2dff61c331"
   },
   "source": [
    "Activity in cluster 1 predicts longer OS times\n",
    "\n",
    "## PAM50 mRNA"
   ]
  },
  {
   "cell_type": "code",
   "execution_count": 30,
   "metadata": {
    "_uuid": "7647221783291c32edd9e9c7db1eb1db0d0c3c29"
   },
   "outputs": [
    {
     "data": {
      "text/plain": [
       "<matplotlib.axes._subplots.AxesSubplot at 0x12c551be0>"
      ]
     },
     "execution_count": 30,
     "metadata": {},
     "output_type": "execute_result"
    },
    {
     "data": {
      "image/png": "[encoded data removed]",
      "text/plain": [
       "<Figure size 432x288 with 1 Axes>"
      ]
     },
     "metadata": {
      "needs_background": "light"
     },
     "output_type": "display_data"
    }
   ],
   "source": [
    "models.visualize('PAM50 mRNA')"
   ]
  },
  {
   "cell_type": "markdown",
   "metadata": {
    "_uuid": "68ce784702ce5a20ff0fe7a74eb589e31edd4bb5"
   },
   "source": [
    "Luminal B PAM50 RNA is most likely in patients with activity in cluster 1, and less likely in patients with activity in clusters 2 and 4. HER2-enriched PAM50 RNA is lest likely in patients with activity in cluster 1. Basal-like PAM50 RNA is most likely in patients with activity in cluster 2.\n",
    "\n",
    "## RPPA Clusters"
   ]
  },
  {
   "cell_type": "code",
   "execution_count": 31,
   "metadata": {
    "_uuid": "bee28bd41abfeb4e4f45aafbaaf0d54e3ca044af"
   },
   "outputs": [
    {
     "data": {
      "text/plain": [
       "<matplotlib.axes._subplots.AxesSubplot at 0x12c806d68>"
      ]
     },
     "execution_count": 31,
     "metadata": {},
     "output_type": "execute_result"
    },
    {
     "data": {
      "image/png": "[encoded data removed]",
      "text/plain": [
       "<Figure size 432x288 with 1 Axes>"
      ]
     },
     "metadata": {
      "needs_background": "light"
     },
     "output_type": "display_data"
    }
   ],
   "source": [
    "models.visualize('RPPA Clusters')"
   ]
  },
  {
   "cell_type": "markdown",
   "metadata": {
    "_uuid": "f4284da3e37a9389ff6ff451835dba36d597c908"
   },
   "source": [
    "HER2 RPPA Clusters are most likely in patients with activity in cluster 4. Lum A RPPA clusters are least likely in patients with activity in cluster 5. Lum A/B clusters are least likely in patients with activity in cluster 6.\n",
    "\n"
   ]
  }
 ],
 "metadata": {
  "kernelspec": {
   "display_name": "Python 3",
   "language": "python",
   "name": "python3"
  },
  "language_info": {
   "codemirror_mode": {
    "name": "ipython",
    "version": 3
   },
   "file_extension": ".py",
   "mimetype": "text/x-python",
   "name": "python",
   "nbconvert_exporter": "python",
   "pygments_lexer": "ipython3",
   "version": "3.6.5"
  }
 },
 "nbformat": 4,
 "nbformat_minor": 1
}
